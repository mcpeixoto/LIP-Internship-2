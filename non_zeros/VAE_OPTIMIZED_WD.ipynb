{
 "metadata": {
  "language_info": {
   "codemirror_mode": {
    "name": "ipython",
    "version": 3
   },
   "file_extension": ".py",
   "mimetype": "text/x-python",
   "name": "python",
   "nbconvert_exporter": "python",
   "pygments_lexer": "ipython3",
   "version": "3.8.10"
  },
  "orig_nbformat": 4,
  "kernelspec": {
   "name": "python3",
   "display_name": "Python 3.8.10 64-bit"
  },
  "interpreter": {
   "hash": "767d51c1340bd893661ea55ea3124f6de3c7a262a8b4abca0554b478b1e2ff90"
  }
 },
 "nbformat": 4,
 "nbformat_minor": 2,
 "cells": [
  {
   "cell_type": "code",
   "execution_count": 1,
   "source": [
    "import torch\n",
    "import torch.nn as nn\n",
    "import pytorch_lightning as pl\n",
    "import random\n",
    "from torch.utils.data.dataset import TensorDataset\n",
    "from torch.utils.data import DataLoader, Dataset\n",
    "from torch.optim import Adam\n",
    "from pytorch_lightning import Trainer\n",
    "import os\n",
    "import numpy as np\n",
    "import pandas as pd\n",
    "from os.path import join\n",
    "from typing import Optional\n",
    "from config import processed_data_path\n",
    "from sklearn.utils import shuffle\n",
    "from tqdm.notebook import tqdm\n",
    "from optuna.integration import PyTorchLightningPruningCallback\n",
    "from scipy.stats import wasserstein_distance \n",
    "import joblib\n",
    "import optuna\n",
    "%matplotlib inline\n",
    "from matplotlib import pyplot as plt\n",
    "from pytorch_lightning.callbacks import EarlyStopping, ModelCheckpoint\n",
    "from pytorch_lightning.loggers import TensorBoardLogger\n",
    "from sklearn.metrics import r2_score\n",
    "from scipy.stats import wasserstein_distance\n",
    "import threading\n",
    "import concurrent\n",
    "from sklearn.metrics import r2_score\n",
    "from VAE_OPTIMIZATION_WD import _dataset, VAE, study, compare_continuous, compare_integer#, compare_distributions_binned_aux, compare_distributions_binned"
   ],
   "outputs": [
    {
     "output_type": "stream",
     "name": "stderr",
     "text": [
      "\u001b[32m[I 2021-08-02 09:07:49,867]\u001b[0m Using an existing study with name 'Optimizing the VAE with WD - BKG vs Random Sampling' instead of creating a new one.\u001b[0m\n"
     ]
    }
   ],
   "metadata": {}
  },
  {
   "cell_type": "markdown",
   "source": [
    "## Loading the Study"
   ],
   "metadata": {}
  },
  {
   "cell_type": "code",
   "execution_count": 2,
   "source": [
    "print(\"Number of finished trials: {}\".format(len(study.trials)))\n",
    "\n",
    "print(\"Best trial:\")\n",
    "trial = study.best_trial\n",
    "\n",
    "print(\"  Value: {}\".format(trial.value))\n",
    "\n",
    "print(\"  Params: \")\n",
    "for key, value in trial.params.items():\n",
    "    print(\"    {}: {}\".format(key, value))\n",
    "\n",
    "print(\" TRIAL NUMBER:\", trial.number)"
   ],
   "outputs": [
    {
     "output_type": "stream",
     "name": "stdout",
     "text": [
      "Number of finished trials: 100\n",
      "Best trial:\n",
      "  Value: 6.630528688507764\n",
      "  Params: \n",
      "    alpha: 6561\n",
      "    hidden_size: 28\n",
      "    lr: 0.00043266173297886026\n",
      "    n_layers_decoder: 12\n",
      "    n_layers_encoder: 4\n",
      "    n_units_decoder_l0: 265\n",
      "    n_units_decoder_l1: 475\n",
      "    n_units_decoder_l10: 285\n",
      "    n_units_decoder_l11: 85\n",
      "    n_units_decoder_l2: 325\n",
      "    n_units_decoder_l3: 385\n",
      "    n_units_decoder_l4: 215\n",
      "    n_units_decoder_l5: 265\n",
      "    n_units_decoder_l6: 445\n",
      "    n_units_decoder_l7: 75\n",
      "    n_units_decoder_l8: 405\n",
      "    n_units_decoder_l9: 445\n",
      "    n_units_encoder_l0: 190\n",
      "    n_units_encoder_l1: 20\n",
      "    n_units_encoder_l2: 480\n",
      "    n_units_encoder_l3: 20\n",
      " TRIAL NUMBER: 83\n"
     ]
    }
   ],
   "metadata": {
    "tags": []
   }
  },
  {
   "cell_type": "markdown",
   "source": [
    "### Optuna Graphs"
   ],
   "metadata": {}
  },
  {
   "cell_type": "code",
   "execution_count": 3,
   "source": [
    "optuna.visualization.plot_param_importances(study) "
   ],
   "outputs": [
    {
     "output_type": "display_data",
     "data": {
      "application/vnd.plotly.v1+json": {
       "config": {
        "plotlyServerURL": "https://plot.ly"
       },
       "data": [
        {
         "cliponaxis": false,
         "hovertemplate": [
          "n_units_decoder_l0 (IntUniformDistribution): 0.06139891827786719<extra></extra>",
          "n_layers_encoder (IntUniformDistribution): 0.09036075056299135<extra></extra>",
          "n_units_encoder_l0 (IntUniformDistribution): 0.10577173309263113<extra></extra>",
          "n_layers_decoder (IntUniformDistribution): 0.12486644416703743<extra></extra>",
          "alpha (IntUniformDistribution): 0.12552977067579268<extra></extra>",
          "hidden_size (IntUniformDistribution): 0.1707931685876882<extra></extra>",
          "lr (LogUniformDistribution): 0.321279214635992<extra></extra>"
         ],
         "marker": {
          "color": "rgb(66,146,198)"
         },
         "orientation": "h",
         "text": [
          "0.06139891827786719",
          "0.09036075056299135",
          "0.10577173309263113",
          "0.12486644416703743",
          "0.12552977067579268",
          "0.1707931685876882",
          "0.321279214635992"
         ],
         "textposition": "outside",
         "texttemplate": "%{text:.2f}",
         "type": "bar",
         "x": [
          0.06139891827786719,
          0.09036075056299135,
          0.10577173309263113,
          0.12486644416703743,
          0.12552977067579268,
          0.1707931685876882,
          0.321279214635992
         ],
         "y": [
          "n_units_decoder_l0",
          "n_layers_encoder",
          "n_units_encoder_l0",
          "n_layers_decoder",
          "alpha",
          "hidden_size",
          "lr"
         ]
        }
       ],
       "layout": {
        "showlegend": false,
        "template": {
         "data": {
          "bar": [
           {
            "error_x": {
             "color": "#2a3f5f"
            },
            "error_y": {
             "color": "#2a3f5f"
            },
            "marker": {
             "line": {
              "color": "#E5ECF6",
              "width": 0.5
             },
             "pattern": {
              "fillmode": "overlay",
              "size": 10,
              "solidity": 0.2
             }
            },
            "type": "bar"
           }
          ],
          "barpolar": [
           {
            "marker": {
             "line": {
              "color": "#E5ECF6",
              "width": 0.5
             },
             "pattern": {
              "fillmode": "overlay",
              "size": 10,
              "solidity": 0.2
             }
            },
            "type": "barpolar"
           }
          ],
          "carpet": [
           {
            "aaxis": {
             "endlinecolor": "#2a3f5f",
             "gridcolor": "white",
             "linecolor": "white",
             "minorgridcolor": "white",
             "startlinecolor": "#2a3f5f"
            },
            "baxis": {
             "endlinecolor": "#2a3f5f",
             "gridcolor": "white",
             "linecolor": "white",
             "minorgridcolor": "white",
             "startlinecolor": "#2a3f5f"
            },
            "type": "carpet"
           }
          ],
          "choropleth": [
           {
            "colorbar": {
             "outlinewidth": 0,
             "ticks": ""
            },
            "type": "choropleth"
           }
          ],
          "contour": [
           {
            "colorbar": {
             "outlinewidth": 0,
             "ticks": ""
            },
            "colorscale": [
             [
              0,
              "#0d0887"
             ],
             [
              0.1111111111111111,
              "#46039f"
             ],
             [
              0.2222222222222222,
              "#7201a8"
             ],
             [
              0.3333333333333333,
              "#9c179e"
             ],
             [
              0.4444444444444444,
              "#bd3786"
             ],
             [
              0.5555555555555556,
              "#d8576b"
             ],
             [
              0.6666666666666666,
              "#ed7953"
             ],
             [
              0.7777777777777778,
              "#fb9f3a"
             ],
             [
              0.8888888888888888,
              "#fdca26"
             ],
             [
              1,
              "#f0f921"
             ]
            ],
            "type": "contour"
           }
          ],
          "contourcarpet": [
           {
            "colorbar": {
             "outlinewidth": 0,
             "ticks": ""
            },
            "type": "contourcarpet"
           }
          ],
          "heatmap": [
           {
            "colorbar": {
             "outlinewidth": 0,
             "ticks": ""
            },
            "colorscale": [
             [
              0,
              "#0d0887"
             ],
             [
              0.1111111111111111,
              "#46039f"
             ],
             [
              0.2222222222222222,
              "#7201a8"
             ],
             [
              0.3333333333333333,
              "#9c179e"
             ],
             [
              0.4444444444444444,
              "#bd3786"
             ],
             [
              0.5555555555555556,
              "#d8576b"
             ],
             [
              0.6666666666666666,
              "#ed7953"
             ],
             [
              0.7777777777777778,
              "#fb9f3a"
             ],
             [
              0.8888888888888888,
              "#fdca26"
             ],
             [
              1,
              "#f0f921"
             ]
            ],
            "type": "heatmap"
           }
          ],
          "heatmapgl": [
           {
            "colorbar": {
             "outlinewidth": 0,
             "ticks": ""
            },
            "colorscale": [
             [
              0,
              "#0d0887"
             ],
             [
              0.1111111111111111,
              "#46039f"
             ],
             [
              0.2222222222222222,
              "#7201a8"
             ],
             [
              0.3333333333333333,
              "#9c179e"
             ],
             [
              0.4444444444444444,
              "#bd3786"
             ],
             [
              0.5555555555555556,
              "#d8576b"
             ],
             [
              0.6666666666666666,
              "#ed7953"
             ],
             [
              0.7777777777777778,
              "#fb9f3a"
             ],
             [
              0.8888888888888888,
              "#fdca26"
             ],
             [
              1,
              "#f0f921"
             ]
            ],
            "type": "heatmapgl"
           }
          ],
          "histogram": [
           {
            "marker": {
             "pattern": {
              "fillmode": "overlay",
              "size": 10,
              "solidity": 0.2
             }
            },
            "type": "histogram"
           }
          ],
          "histogram2d": [
           {
            "colorbar": {
             "outlinewidth": 0,
             "ticks": ""
            },
            "colorscale": [
             [
              0,
              "#0d0887"
             ],
             [
              0.1111111111111111,
              "#46039f"
             ],
             [
              0.2222222222222222,
              "#7201a8"
             ],
             [
              0.3333333333333333,
              "#9c179e"
             ],
             [
              0.4444444444444444,
              "#bd3786"
             ],
             [
              0.5555555555555556,
              "#d8576b"
             ],
             [
              0.6666666666666666,
              "#ed7953"
             ],
             [
              0.7777777777777778,
              "#fb9f3a"
             ],
             [
              0.8888888888888888,
              "#fdca26"
             ],
             [
              1,
              "#f0f921"
             ]
            ],
            "type": "histogram2d"
           }
          ],
          "histogram2dcontour": [
           {
            "colorbar": {
             "outlinewidth": 0,
             "ticks": ""
            },
            "colorscale": [
             [
              0,
              "#0d0887"
             ],
             [
              0.1111111111111111,
              "#46039f"
             ],
             [
              0.2222222222222222,
              "#7201a8"
             ],
             [
              0.3333333333333333,
              "#9c179e"
             ],
             [
              0.4444444444444444,
              "#bd3786"
             ],
             [
              0.5555555555555556,
              "#d8576b"
             ],
             [
              0.6666666666666666,
              "#ed7953"
             ],
             [
              0.7777777777777778,
              "#fb9f3a"
             ],
             [
              0.8888888888888888,
              "#fdca26"
             ],
             [
              1,
              "#f0f921"
             ]
            ],
            "type": "histogram2dcontour"
           }
          ],
          "mesh3d": [
           {
            "colorbar": {
             "outlinewidth": 0,
             "ticks": ""
            },
            "type": "mesh3d"
           }
          ],
          "parcoords": [
           {
            "line": {
             "colorbar": {
              "outlinewidth": 0,
              "ticks": ""
             }
            },
            "type": "parcoords"
           }
          ],
          "pie": [
           {
            "automargin": true,
            "type": "pie"
           }
          ],
          "scatter": [
           {
            "marker": {
             "colorbar": {
              "outlinewidth": 0,
              "ticks": ""
             }
            },
            "type": "scatter"
           }
          ],
          "scatter3d": [
           {
            "line": {
             "colorbar": {
              "outlinewidth": 0,
              "ticks": ""
             }
            },
            "marker": {
             "colorbar": {
              "outlinewidth": 0,
              "ticks": ""
             }
            },
            "type": "scatter3d"
           }
          ],
          "scattercarpet": [
           {
            "marker": {
             "colorbar": {
              "outlinewidth": 0,
              "ticks": ""
             }
            },
            "type": "scattercarpet"
           }
          ],
          "scattergeo": [
           {
            "marker": {
             "colorbar": {
              "outlinewidth": 0,
              "ticks": ""
             }
            },
            "type": "scattergeo"
           }
          ],
          "scattergl": [
           {
            "marker": {
             "colorbar": {
              "outlinewidth": 0,
              "ticks": ""
             }
            },
            "type": "scattergl"
           }
          ],
          "scattermapbox": [
           {
            "marker": {
             "colorbar": {
              "outlinewidth": 0,
              "ticks": ""
             }
            },
            "type": "scattermapbox"
           }
          ],
          "scatterpolar": [
           {
            "marker": {
             "colorbar": {
              "outlinewidth": 0,
              "ticks": ""
             }
            },
            "type": "scatterpolar"
           }
          ],
          "scatterpolargl": [
           {
            "marker": {
             "colorbar": {
              "outlinewidth": 0,
              "ticks": ""
             }
            },
            "type": "scatterpolargl"
           }
          ],
          "scatterternary": [
           {
            "marker": {
             "colorbar": {
              "outlinewidth": 0,
              "ticks": ""
             }
            },
            "type": "scatterternary"
           }
          ],
          "surface": [
           {
            "colorbar": {
             "outlinewidth": 0,
             "ticks": ""
            },
            "colorscale": [
             [
              0,
              "#0d0887"
             ],
             [
              0.1111111111111111,
              "#46039f"
             ],
             [
              0.2222222222222222,
              "#7201a8"
             ],
             [
              0.3333333333333333,
              "#9c179e"
             ],
             [
              0.4444444444444444,
              "#bd3786"
             ],
             [
              0.5555555555555556,
              "#d8576b"
             ],
             [
              0.6666666666666666,
              "#ed7953"
             ],
             [
              0.7777777777777778,
              "#fb9f3a"
             ],
             [
              0.8888888888888888,
              "#fdca26"
             ],
             [
              1,
              "#f0f921"
             ]
            ],
            "type": "surface"
           }
          ],
          "table": [
           {
            "cells": {
             "fill": {
              "color": "#EBF0F8"
             },
             "line": {
              "color": "white"
             }
            },
            "header": {
             "fill": {
              "color": "#C8D4E3"
             },
             "line": {
              "color": "white"
             }
            },
            "type": "table"
           }
          ]
         },
         "layout": {
          "annotationdefaults": {
           "arrowcolor": "#2a3f5f",
           "arrowhead": 0,
           "arrowwidth": 1
          },
          "autotypenumbers": "strict",
          "coloraxis": {
           "colorbar": {
            "outlinewidth": 0,
            "ticks": ""
           }
          },
          "colorscale": {
           "diverging": [
            [
             0,
             "#8e0152"
            ],
            [
             0.1,
             "#c51b7d"
            ],
            [
             0.2,
             "#de77ae"
            ],
            [
             0.3,
             "#f1b6da"
            ],
            [
             0.4,
             "#fde0ef"
            ],
            [
             0.5,
             "#f7f7f7"
            ],
            [
             0.6,
             "#e6f5d0"
            ],
            [
             0.7,
             "#b8e186"
            ],
            [
             0.8,
             "#7fbc41"
            ],
            [
             0.9,
             "#4d9221"
            ],
            [
             1,
             "#276419"
            ]
           ],
           "sequential": [
            [
             0,
             "#0d0887"
            ],
            [
             0.1111111111111111,
             "#46039f"
            ],
            [
             0.2222222222222222,
             "#7201a8"
            ],
            [
             0.3333333333333333,
             "#9c179e"
            ],
            [
             0.4444444444444444,
             "#bd3786"
            ],
            [
             0.5555555555555556,
             "#d8576b"
            ],
            [
             0.6666666666666666,
             "#ed7953"
            ],
            [
             0.7777777777777778,
             "#fb9f3a"
            ],
            [
             0.8888888888888888,
             "#fdca26"
            ],
            [
             1,
             "#f0f921"
            ]
           ],
           "sequentialminus": [
            [
             0,
             "#0d0887"
            ],
            [
             0.1111111111111111,
             "#46039f"
            ],
            [
             0.2222222222222222,
             "#7201a8"
            ],
            [
             0.3333333333333333,
             "#9c179e"
            ],
            [
             0.4444444444444444,
             "#bd3786"
            ],
            [
             0.5555555555555556,
             "#d8576b"
            ],
            [
             0.6666666666666666,
             "#ed7953"
            ],
            [
             0.7777777777777778,
             "#fb9f3a"
            ],
            [
             0.8888888888888888,
             "#fdca26"
            ],
            [
             1,
             "#f0f921"
            ]
           ]
          },
          "colorway": [
           "#636efa",
           "#EF553B",
           "#00cc96",
           "#ab63fa",
           "#FFA15A",
           "#19d3f3",
           "#FF6692",
           "#B6E880",
           "#FF97FF",
           "#FECB52"
          ],
          "font": {
           "color": "#2a3f5f"
          },
          "geo": {
           "bgcolor": "white",
           "lakecolor": "white",
           "landcolor": "#E5ECF6",
           "showlakes": true,
           "showland": true,
           "subunitcolor": "white"
          },
          "hoverlabel": {
           "align": "left"
          },
          "hovermode": "closest",
          "mapbox": {
           "style": "light"
          },
          "paper_bgcolor": "white",
          "plot_bgcolor": "#E5ECF6",
          "polar": {
           "angularaxis": {
            "gridcolor": "white",
            "linecolor": "white",
            "ticks": ""
           },
           "bgcolor": "#E5ECF6",
           "radialaxis": {
            "gridcolor": "white",
            "linecolor": "white",
            "ticks": ""
           }
          },
          "scene": {
           "xaxis": {
            "backgroundcolor": "#E5ECF6",
            "gridcolor": "white",
            "gridwidth": 2,
            "linecolor": "white",
            "showbackground": true,
            "ticks": "",
            "zerolinecolor": "white"
           },
           "yaxis": {
            "backgroundcolor": "#E5ECF6",
            "gridcolor": "white",
            "gridwidth": 2,
            "linecolor": "white",
            "showbackground": true,
            "ticks": "",
            "zerolinecolor": "white"
           },
           "zaxis": {
            "backgroundcolor": "#E5ECF6",
            "gridcolor": "white",
            "gridwidth": 2,
            "linecolor": "white",
            "showbackground": true,
            "ticks": "",
            "zerolinecolor": "white"
           }
          },
          "shapedefaults": {
           "line": {
            "color": "#2a3f5f"
           }
          },
          "ternary": {
           "aaxis": {
            "gridcolor": "white",
            "linecolor": "white",
            "ticks": ""
           },
           "baxis": {
            "gridcolor": "white",
            "linecolor": "white",
            "ticks": ""
           },
           "bgcolor": "#E5ECF6",
           "caxis": {
            "gridcolor": "white",
            "linecolor": "white",
            "ticks": ""
           }
          },
          "title": {
           "x": 0.05
          },
          "xaxis": {
           "automargin": true,
           "gridcolor": "white",
           "linecolor": "white",
           "ticks": "",
           "title": {
            "standoff": 15
           },
           "zerolinecolor": "white",
           "zerolinewidth": 2
          },
          "yaxis": {
           "automargin": true,
           "gridcolor": "white",
           "linecolor": "white",
           "ticks": "",
           "title": {
            "standoff": 15
           },
           "zerolinecolor": "white",
           "zerolinewidth": 2
          }
         }
        },
        "title": {
         "text": "Hyperparameter Importances"
        },
        "xaxis": {
         "title": {
          "text": "Importance for Objective Value"
         }
        },
        "yaxis": {
         "title": {
          "text": "Hyperparameter"
         }
        }
       }
      }
     },
     "metadata": {}
    }
   ],
   "metadata": {}
  },
  {
   "cell_type": "code",
   "execution_count": 4,
   "source": [
    "optuna.visualization.plot_optimization_history(study)"
   ],
   "outputs": [
    {
     "output_type": "display_data",
     "data": {
      "application/vnd.plotly.v1+json": {
       "config": {
        "plotlyServerURL": "https://plot.ly"
       },
       "data": [
        {
         "mode": "markers",
         "name": "Objective Value",
         "type": "scatter",
         "x": [
          0,
          1,
          2,
          3,
          4,
          5,
          6,
          7,
          8,
          9,
          10,
          11,
          12,
          13,
          14,
          15,
          16,
          17,
          18,
          19,
          20,
          21,
          22,
          23,
          24,
          25,
          26,
          27,
          28,
          29,
          30,
          31,
          32,
          33,
          34,
          35,
          36,
          37,
          38,
          39,
          40,
          41,
          42,
          43,
          44,
          45,
          46,
          47,
          48,
          49,
          50,
          51,
          52,
          53,
          54,
          55,
          56,
          57,
          58,
          59,
          60,
          61,
          62,
          63,
          64,
          65,
          66,
          67,
          68,
          69,
          70,
          71,
          72,
          73,
          74,
          75,
          76,
          77,
          78,
          79,
          80,
          81,
          82,
          83,
          84,
          85,
          86,
          87,
          88,
          89,
          90,
          91,
          92,
          93,
          94,
          95,
          96,
          97,
          98,
          99
         ],
         "y": [
          11.079786261605687,
          10.87730089042908,
          10.97166880900363,
          10.600658270734742,
          11.196966543798045,
          11.005844802819212,
          10.579537952524918,
          11.025872484005161,
          9.80407769003346,
          8.319180746428414,
          9.996454620801376,
          11.096470590299734,
          11.11734750802602,
          9.975166096647758,
          11.239210601580526,
          10.858063205851177,
          11.155418193100715,
          11.153334712762762,
          10.08909818484099,
          11.141194208684114,
          10.28146348196113,
          9.360816859500828,
          9.912520970595414,
          8.735561293986505,
          8.842453467870476,
          8.574332539310337,
          9.881343485961139,
          10.651092305888543,
          11.131685747525472,
          10.660876506546641,
          10.891040866704447,
          9.327543471091078,
          10.996289980880102,
          9.895363758807653,
          9.644081156680855,
          7.4570798670573195,
          11.14403600115969,
          10.900904190115607,
          9.201805613759067,
          9.654664234894634,
          9.989409753067404,
          8.338459550971029,
          9.168596128256162,
          10.210963951546486,
          8.437448156268717,
          11.198870339321836,
          10.16079849739818,
          10.534769449750645,
          11.142282058321134,
          11.143039820387719,
          9.840450801076745,
          8.374563847360754,
          9.654369259299507,
          9.92605180983047,
          10.987550274959911,
          10.130857553071206,
          8.604594884925158,
          11.002881848329217,
          11.091493142322006,
          9.291026168790072,
          10.64102949418924,
          8.636829580030033,
          8.137958355597569,
          7.959784164912763,
          8.085243280137348,
          7.712641593763519,
          9.374834642089132,
          8.895034365563237,
          9.505971572018225,
          10.455044190763788,
          11.148338255790659,
          7.7542011609131,
          11.14343000994457,
          8.206496012213982,
          7.713969490643303,
          8.117028646037593,
          10.20272908469071,
          11.147248382132185,
          7.75126351411893,
          8.09334229739632,
          8.598889436495174,
          7.563456225107632,
          11.138585167653844,
          6.630528688507764,
          8.587859426906558,
          11.25066621718535,
          9.491969322401935,
          8.041172249134485,
          8.590570266229633,
          7.1190556648424,
          8.998497266196926,
          8.350848849840832,
          8.035714496781967,
          9.095236783135595,
          10.942104543330823,
          8.872673497974297,
          11.143280401644098,
          8.543587620866889,
          8.079820122518138,
          9.550036945509726
         ]
        },
        {
         "name": "Best Value",
         "type": "scatter",
         "x": [
          0,
          1,
          2,
          3,
          4,
          5,
          6,
          7,
          8,
          9,
          10,
          11,
          12,
          13,
          14,
          15,
          16,
          17,
          18,
          19,
          20,
          21,
          22,
          23,
          24,
          25,
          26,
          27,
          28,
          29,
          30,
          31,
          32,
          33,
          34,
          35,
          36,
          37,
          38,
          39,
          40,
          41,
          42,
          43,
          44,
          45,
          46,
          47,
          48,
          49,
          50,
          51,
          52,
          53,
          54,
          55,
          56,
          57,
          58,
          59,
          60,
          61,
          62,
          63,
          64,
          65,
          66,
          67,
          68,
          69,
          70,
          71,
          72,
          73,
          74,
          75,
          76,
          77,
          78,
          79,
          80,
          81,
          82,
          83,
          84,
          85,
          86,
          87,
          88,
          89,
          90,
          91,
          92,
          93,
          94,
          95,
          96,
          97,
          98,
          99
         ],
         "y": [
          11.079786261605687,
          10.87730089042908,
          10.87730089042908,
          10.600658270734742,
          10.600658270734742,
          10.600658270734742,
          10.579537952524918,
          10.579537952524918,
          9.80407769003346,
          8.319180746428414,
          8.319180746428414,
          8.319180746428414,
          8.319180746428414,
          8.319180746428414,
          8.319180746428414,
          8.319180746428414,
          8.319180746428414,
          8.319180746428414,
          8.319180746428414,
          8.319180746428414,
          8.319180746428414,
          8.319180746428414,
          8.319180746428414,
          8.319180746428414,
          8.319180746428414,
          8.319180746428414,
          8.319180746428414,
          8.319180746428414,
          8.319180746428414,
          8.319180746428414,
          8.319180746428414,
          8.319180746428414,
          8.319180746428414,
          8.319180746428414,
          8.319180746428414,
          7.4570798670573195,
          7.4570798670573195,
          7.4570798670573195,
          7.4570798670573195,
          7.4570798670573195,
          7.4570798670573195,
          7.4570798670573195,
          7.4570798670573195,
          7.4570798670573195,
          7.4570798670573195,
          7.4570798670573195,
          7.4570798670573195,
          7.4570798670573195,
          7.4570798670573195,
          7.4570798670573195,
          7.4570798670573195,
          7.4570798670573195,
          7.4570798670573195,
          7.4570798670573195,
          7.4570798670573195,
          7.4570798670573195,
          7.4570798670573195,
          7.4570798670573195,
          7.4570798670573195,
          7.4570798670573195,
          7.4570798670573195,
          7.4570798670573195,
          7.4570798670573195,
          7.4570798670573195,
          7.4570798670573195,
          7.4570798670573195,
          7.4570798670573195,
          7.4570798670573195,
          7.4570798670573195,
          7.4570798670573195,
          7.4570798670573195,
          7.4570798670573195,
          7.4570798670573195,
          7.4570798670573195,
          7.4570798670573195,
          7.4570798670573195,
          7.4570798670573195,
          7.4570798670573195,
          7.4570798670573195,
          7.4570798670573195,
          7.4570798670573195,
          7.4570798670573195,
          7.4570798670573195,
          6.630528688507764,
          6.630528688507764,
          6.630528688507764,
          6.630528688507764,
          6.630528688507764,
          6.630528688507764,
          6.630528688507764,
          6.630528688507764,
          6.630528688507764,
          6.630528688507764,
          6.630528688507764,
          6.630528688507764,
          6.630528688507764,
          6.630528688507764,
          6.630528688507764,
          6.630528688507764,
          6.630528688507764
         ]
        }
       ],
       "layout": {
        "template": {
         "data": {
          "bar": [
           {
            "error_x": {
             "color": "#2a3f5f"
            },
            "error_y": {
             "color": "#2a3f5f"
            },
            "marker": {
             "line": {
              "color": "#E5ECF6",
              "width": 0.5
             },
             "pattern": {
              "fillmode": "overlay",
              "size": 10,
              "solidity": 0.2
             }
            },
            "type": "bar"
           }
          ],
          "barpolar": [
           {
            "marker": {
             "line": {
              "color": "#E5ECF6",
              "width": 0.5
             },
             "pattern": {
              "fillmode": "overlay",
              "size": 10,
              "solidity": 0.2
             }
            },
            "type": "barpolar"
           }
          ],
          "carpet": [
           {
            "aaxis": {
             "endlinecolor": "#2a3f5f",
             "gridcolor": "white",
             "linecolor": "white",
             "minorgridcolor": "white",
             "startlinecolor": "#2a3f5f"
            },
            "baxis": {
             "endlinecolor": "#2a3f5f",
             "gridcolor": "white",
             "linecolor": "white",
             "minorgridcolor": "white",
             "startlinecolor": "#2a3f5f"
            },
            "type": "carpet"
           }
          ],
          "choropleth": [
           {
            "colorbar": {
             "outlinewidth": 0,
             "ticks": ""
            },
            "type": "choropleth"
           }
          ],
          "contour": [
           {
            "colorbar": {
             "outlinewidth": 0,
             "ticks": ""
            },
            "colorscale": [
             [
              0,
              "#0d0887"
             ],
             [
              0.1111111111111111,
              "#46039f"
             ],
             [
              0.2222222222222222,
              "#7201a8"
             ],
             [
              0.3333333333333333,
              "#9c179e"
             ],
             [
              0.4444444444444444,
              "#bd3786"
             ],
             [
              0.5555555555555556,
              "#d8576b"
             ],
             [
              0.6666666666666666,
              "#ed7953"
             ],
             [
              0.7777777777777778,
              "#fb9f3a"
             ],
             [
              0.8888888888888888,
              "#fdca26"
             ],
             [
              1,
              "#f0f921"
             ]
            ],
            "type": "contour"
           }
          ],
          "contourcarpet": [
           {
            "colorbar": {
             "outlinewidth": 0,
             "ticks": ""
            },
            "type": "contourcarpet"
           }
          ],
          "heatmap": [
           {
            "colorbar": {
             "outlinewidth": 0,
             "ticks": ""
            },
            "colorscale": [
             [
              0,
              "#0d0887"
             ],
             [
              0.1111111111111111,
              "#46039f"
             ],
             [
              0.2222222222222222,
              "#7201a8"
             ],
             [
              0.3333333333333333,
              "#9c179e"
             ],
             [
              0.4444444444444444,
              "#bd3786"
             ],
             [
              0.5555555555555556,
              "#d8576b"
             ],
             [
              0.6666666666666666,
              "#ed7953"
             ],
             [
              0.7777777777777778,
              "#fb9f3a"
             ],
             [
              0.8888888888888888,
              "#fdca26"
             ],
             [
              1,
              "#f0f921"
             ]
            ],
            "type": "heatmap"
           }
          ],
          "heatmapgl": [
           {
            "colorbar": {
             "outlinewidth": 0,
             "ticks": ""
            },
            "colorscale": [
             [
              0,
              "#0d0887"
             ],
             [
              0.1111111111111111,
              "#46039f"
             ],
             [
              0.2222222222222222,
              "#7201a8"
             ],
             [
              0.3333333333333333,
              "#9c179e"
             ],
             [
              0.4444444444444444,
              "#bd3786"
             ],
             [
              0.5555555555555556,
              "#d8576b"
             ],
             [
              0.6666666666666666,
              "#ed7953"
             ],
             [
              0.7777777777777778,
              "#fb9f3a"
             ],
             [
              0.8888888888888888,
              "#fdca26"
             ],
             [
              1,
              "#f0f921"
             ]
            ],
            "type": "heatmapgl"
           }
          ],
          "histogram": [
           {
            "marker": {
             "pattern": {
              "fillmode": "overlay",
              "size": 10,
              "solidity": 0.2
             }
            },
            "type": "histogram"
           }
          ],
          "histogram2d": [
           {
            "colorbar": {
             "outlinewidth": 0,
             "ticks": ""
            },
            "colorscale": [
             [
              0,
              "#0d0887"
             ],
             [
              0.1111111111111111,
              "#46039f"
             ],
             [
              0.2222222222222222,
              "#7201a8"
             ],
             [
              0.3333333333333333,
              "#9c179e"
             ],
             [
              0.4444444444444444,
              "#bd3786"
             ],
             [
              0.5555555555555556,
              "#d8576b"
             ],
             [
              0.6666666666666666,
              "#ed7953"
             ],
             [
              0.7777777777777778,
              "#fb9f3a"
             ],
             [
              0.8888888888888888,
              "#fdca26"
             ],
             [
              1,
              "#f0f921"
             ]
            ],
            "type": "histogram2d"
           }
          ],
          "histogram2dcontour": [
           {
            "colorbar": {
             "outlinewidth": 0,
             "ticks": ""
            },
            "colorscale": [
             [
              0,
              "#0d0887"
             ],
             [
              0.1111111111111111,
              "#46039f"
             ],
             [
              0.2222222222222222,
              "#7201a8"
             ],
             [
              0.3333333333333333,
              "#9c179e"
             ],
             [
              0.4444444444444444,
              "#bd3786"
             ],
             [
              0.5555555555555556,
              "#d8576b"
             ],
             [
              0.6666666666666666,
              "#ed7953"
             ],
             [
              0.7777777777777778,
              "#fb9f3a"
             ],
             [
              0.8888888888888888,
              "#fdca26"
             ],
             [
              1,
              "#f0f921"
             ]
            ],
            "type": "histogram2dcontour"
           }
          ],
          "mesh3d": [
           {
            "colorbar": {
             "outlinewidth": 0,
             "ticks": ""
            },
            "type": "mesh3d"
           }
          ],
          "parcoords": [
           {
            "line": {
             "colorbar": {
              "outlinewidth": 0,
              "ticks": ""
             }
            },
            "type": "parcoords"
           }
          ],
          "pie": [
           {
            "automargin": true,
            "type": "pie"
           }
          ],
          "scatter": [
           {
            "marker": {
             "colorbar": {
              "outlinewidth": 0,
              "ticks": ""
             }
            },
            "type": "scatter"
           }
          ],
          "scatter3d": [
           {
            "line": {
             "colorbar": {
              "outlinewidth": 0,
              "ticks": ""
             }
            },
            "marker": {
             "colorbar": {
              "outlinewidth": 0,
              "ticks": ""
             }
            },
            "type": "scatter3d"
           }
          ],
          "scattercarpet": [
           {
            "marker": {
             "colorbar": {
              "outlinewidth": 0,
              "ticks": ""
             }
            },
            "type": "scattercarpet"
           }
          ],
          "scattergeo": [
           {
            "marker": {
             "colorbar": {
              "outlinewidth": 0,
              "ticks": ""
             }
            },
            "type": "scattergeo"
           }
          ],
          "scattergl": [
           {
            "marker": {
             "colorbar": {
              "outlinewidth": 0,
              "ticks": ""
             }
            },
            "type": "scattergl"
           }
          ],
          "scattermapbox": [
           {
            "marker": {
             "colorbar": {
              "outlinewidth": 0,
              "ticks": ""
             }
            },
            "type": "scattermapbox"
           }
          ],
          "scatterpolar": [
           {
            "marker": {
             "colorbar": {
              "outlinewidth": 0,
              "ticks": ""
             }
            },
            "type": "scatterpolar"
           }
          ],
          "scatterpolargl": [
           {
            "marker": {
             "colorbar": {
              "outlinewidth": 0,
              "ticks": ""
             }
            },
            "type": "scatterpolargl"
           }
          ],
          "scatterternary": [
           {
            "marker": {
             "colorbar": {
              "outlinewidth": 0,
              "ticks": ""
             }
            },
            "type": "scatterternary"
           }
          ],
          "surface": [
           {
            "colorbar": {
             "outlinewidth": 0,
             "ticks": ""
            },
            "colorscale": [
             [
              0,
              "#0d0887"
             ],
             [
              0.1111111111111111,
              "#46039f"
             ],
             [
              0.2222222222222222,
              "#7201a8"
             ],
             [
              0.3333333333333333,
              "#9c179e"
             ],
             [
              0.4444444444444444,
              "#bd3786"
             ],
             [
              0.5555555555555556,
              "#d8576b"
             ],
             [
              0.6666666666666666,
              "#ed7953"
             ],
             [
              0.7777777777777778,
              "#fb9f3a"
             ],
             [
              0.8888888888888888,
              "#fdca26"
             ],
             [
              1,
              "#f0f921"
             ]
            ],
            "type": "surface"
           }
          ],
          "table": [
           {
            "cells": {
             "fill": {
              "color": "#EBF0F8"
             },
             "line": {
              "color": "white"
             }
            },
            "header": {
             "fill": {
              "color": "#C8D4E3"
             },
             "line": {
              "color": "white"
             }
            },
            "type": "table"
           }
          ]
         },
         "layout": {
          "annotationdefaults": {
           "arrowcolor": "#2a3f5f",
           "arrowhead": 0,
           "arrowwidth": 1
          },
          "autotypenumbers": "strict",
          "coloraxis": {
           "colorbar": {
            "outlinewidth": 0,
            "ticks": ""
           }
          },
          "colorscale": {
           "diverging": [
            [
             0,
             "#8e0152"
            ],
            [
             0.1,
             "#c51b7d"
            ],
            [
             0.2,
             "#de77ae"
            ],
            [
             0.3,
             "#f1b6da"
            ],
            [
             0.4,
             "#fde0ef"
            ],
            [
             0.5,
             "#f7f7f7"
            ],
            [
             0.6,
             "#e6f5d0"
            ],
            [
             0.7,
             "#b8e186"
            ],
            [
             0.8,
             "#7fbc41"
            ],
            [
             0.9,
             "#4d9221"
            ],
            [
             1,
             "#276419"
            ]
           ],
           "sequential": [
            [
             0,
             "#0d0887"
            ],
            [
             0.1111111111111111,
             "#46039f"
            ],
            [
             0.2222222222222222,
             "#7201a8"
            ],
            [
             0.3333333333333333,
             "#9c179e"
            ],
            [
             0.4444444444444444,
             "#bd3786"
            ],
            [
             0.5555555555555556,
             "#d8576b"
            ],
            [
             0.6666666666666666,
             "#ed7953"
            ],
            [
             0.7777777777777778,
             "#fb9f3a"
            ],
            [
             0.8888888888888888,
             "#fdca26"
            ],
            [
             1,
             "#f0f921"
            ]
           ],
           "sequentialminus": [
            [
             0,
             "#0d0887"
            ],
            [
             0.1111111111111111,
             "#46039f"
            ],
            [
             0.2222222222222222,
             "#7201a8"
            ],
            [
             0.3333333333333333,
             "#9c179e"
            ],
            [
             0.4444444444444444,
             "#bd3786"
            ],
            [
             0.5555555555555556,
             "#d8576b"
            ],
            [
             0.6666666666666666,
             "#ed7953"
            ],
            [
             0.7777777777777778,
             "#fb9f3a"
            ],
            [
             0.8888888888888888,
             "#fdca26"
            ],
            [
             1,
             "#f0f921"
            ]
           ]
          },
          "colorway": [
           "#636efa",
           "#EF553B",
           "#00cc96",
           "#ab63fa",
           "#FFA15A",
           "#19d3f3",
           "#FF6692",
           "#B6E880",
           "#FF97FF",
           "#FECB52"
          ],
          "font": {
           "color": "#2a3f5f"
          },
          "geo": {
           "bgcolor": "white",
           "lakecolor": "white",
           "landcolor": "#E5ECF6",
           "showlakes": true,
           "showland": true,
           "subunitcolor": "white"
          },
          "hoverlabel": {
           "align": "left"
          },
          "hovermode": "closest",
          "mapbox": {
           "style": "light"
          },
          "paper_bgcolor": "white",
          "plot_bgcolor": "#E5ECF6",
          "polar": {
           "angularaxis": {
            "gridcolor": "white",
            "linecolor": "white",
            "ticks": ""
           },
           "bgcolor": "#E5ECF6",
           "radialaxis": {
            "gridcolor": "white",
            "linecolor": "white",
            "ticks": ""
           }
          },
          "scene": {
           "xaxis": {
            "backgroundcolor": "#E5ECF6",
            "gridcolor": "white",
            "gridwidth": 2,
            "linecolor": "white",
            "showbackground": true,
            "ticks": "",
            "zerolinecolor": "white"
           },
           "yaxis": {
            "backgroundcolor": "#E5ECF6",
            "gridcolor": "white",
            "gridwidth": 2,
            "linecolor": "white",
            "showbackground": true,
            "ticks": "",
            "zerolinecolor": "white"
           },
           "zaxis": {
            "backgroundcolor": "#E5ECF6",
            "gridcolor": "white",
            "gridwidth": 2,
            "linecolor": "white",
            "showbackground": true,
            "ticks": "",
            "zerolinecolor": "white"
           }
          },
          "shapedefaults": {
           "line": {
            "color": "#2a3f5f"
           }
          },
          "ternary": {
           "aaxis": {
            "gridcolor": "white",
            "linecolor": "white",
            "ticks": ""
           },
           "baxis": {
            "gridcolor": "white",
            "linecolor": "white",
            "ticks": ""
           },
           "bgcolor": "#E5ECF6",
           "caxis": {
            "gridcolor": "white",
            "linecolor": "white",
            "ticks": ""
           }
          },
          "title": {
           "x": 0.05
          },
          "xaxis": {
           "automargin": true,
           "gridcolor": "white",
           "linecolor": "white",
           "ticks": "",
           "title": {
            "standoff": 15
           },
           "zerolinecolor": "white",
           "zerolinewidth": 2
          },
          "yaxis": {
           "automargin": true,
           "gridcolor": "white",
           "linecolor": "white",
           "ticks": "",
           "title": {
            "standoff": 15
           },
           "zerolinecolor": "white",
           "zerolinewidth": 2
          }
         }
        },
        "title": {
         "text": "Optimization History Plot"
        },
        "xaxis": {
         "title": {
          "text": "#Trials"
         }
        },
        "yaxis": {
         "title": {
          "text": "Objective Value"
         }
        }
       }
      }
     },
     "metadata": {}
    }
   ],
   "metadata": {}
  },
  {
   "cell_type": "markdown",
   "source": [
    "## Anomaly Detection\n",
    "\n",
    "### Load the model"
   ],
   "metadata": {}
  },
  {
   "cell_type": "code",
   "execution_count": 5,
   "source": [
    "# Nao é o 49, 53, 33, 26, 25, 23, 22, 16\n",
    "#name = \"wd-sample_vs_data_trial_16\"\n",
    "#name = \"wd-sample_vs_data_trial_{}\".format(trial.number)\n",
    "name = f\"CustomTrain_WD-Data_vs_Sampling_trial_{trial.number}\"\n",
    "model = VAE.load_from_checkpoint(\n",
    "    #join('models', f\"sample_vs_data_trial_{study.best_trial.number}.ckpt\"),\n",
    "    join(\"models\", name + \".ckpt\"),\n",
    "    #trial = study.trials[16], \n",
    "    trial = optuna.trial.FixedTrial(study.best_trial.params), \n",
    "    dataset = \"bkg\", \n",
    "    batch_size=512)\n",
    "\n",
    "model.eval()"
   ],
   "outputs": [
    {
     "output_type": "stream",
     "name": "stderr",
     "text": [
      "/home/acujl/.local/lib/python3.8/site-packages/optuna/distributions.py:560: UserWarning:\n",
      "\n",
      "The distribution is specified by [1, 10000] and step=5, but the range is not divisible by `step`. It will be replaced by [1, 9996].\n",
      "\n",
      "/home/acujl/.local/lib/python3.8/site-packages/optuna/distributions.py:560: UserWarning:\n",
      "\n",
      "The distribution is specified by [5, 500] and step=10, but the range is not divisible by `step`. It will be replaced by [5, 495].\n",
      "\n"
     ]
    },
    {
     "output_type": "execute_result",
     "data": {
      "text/plain": [
       "VAE(\n",
       "  (encoder): Sequential(\n",
       "    (0): Linear(in_features=47, out_features=190, bias=True)\n",
       "    (1): LeakyReLU(negative_slope=0.01)\n",
       "    (2): Linear(in_features=190, out_features=20, bias=True)\n",
       "    (3): LeakyReLU(negative_slope=0.01)\n",
       "    (4): Linear(in_features=20, out_features=480, bias=True)\n",
       "    (5): LeakyReLU(negative_slope=0.01)\n",
       "    (6): Linear(in_features=480, out_features=20, bias=True)\n",
       "    (7): LeakyReLU(negative_slope=0.01)\n",
       "    (8): Linear(in_features=20, out_features=28, bias=True)\n",
       "  )\n",
       "  (hidden2mu): Linear(in_features=28, out_features=28, bias=True)\n",
       "  (hidden2log_var): Linear(in_features=28, out_features=28, bias=True)\n",
       "  (decoder): Sequential(\n",
       "    (0): Linear(in_features=28, out_features=265, bias=True)\n",
       "    (1): LeakyReLU(negative_slope=0.01)\n",
       "    (2): Linear(in_features=265, out_features=475, bias=True)\n",
       "    (3): LeakyReLU(negative_slope=0.01)\n",
       "    (4): Linear(in_features=475, out_features=325, bias=True)\n",
       "    (5): LeakyReLU(negative_slope=0.01)\n",
       "    (6): Linear(in_features=325, out_features=385, bias=True)\n",
       "    (7): LeakyReLU(negative_slope=0.01)\n",
       "    (8): Linear(in_features=385, out_features=215, bias=True)\n",
       "    (9): LeakyReLU(negative_slope=0.01)\n",
       "    (10): Linear(in_features=215, out_features=265, bias=True)\n",
       "    (11): LeakyReLU(negative_slope=0.01)\n",
       "    (12): Linear(in_features=265, out_features=445, bias=True)\n",
       "    (13): LeakyReLU(negative_slope=0.01)\n",
       "    (14): Linear(in_features=445, out_features=75, bias=True)\n",
       "    (15): LeakyReLU(negative_slope=0.01)\n",
       "    (16): Linear(in_features=75, out_features=405, bias=True)\n",
       "    (17): LeakyReLU(negative_slope=0.01)\n",
       "    (18): Linear(in_features=405, out_features=445, bias=True)\n",
       "    (19): LeakyReLU(negative_slope=0.01)\n",
       "    (20): Linear(in_features=445, out_features=285, bias=True)\n",
       "    (21): LeakyReLU(negative_slope=0.01)\n",
       "    (22): Linear(in_features=285, out_features=85, bias=True)\n",
       "    (23): LeakyReLU(negative_slope=0.01)\n",
       "    (24): Linear(in_features=85, out_features=47, bias=True)\n",
       "  )\n",
       ")"
      ]
     },
     "metadata": {},
     "execution_count": 5
    }
   ],
   "metadata": {}
  },
  {
   "cell_type": "markdown",
   "source": [
    "### Load data"
   ],
   "metadata": {}
  },
  {
   "cell_type": "code",
   "execution_count": 6,
   "source": [
    "# Bkg\n",
    "bkg = _dataset(category='test',variant='bkg').all_data()\n",
    "bkg_name = bkg['name']\n",
    "bkg_weights = bkg['weights']\n",
    "bkg.drop(columns=['weights', 'name'], inplace=True)\n",
    "bkg.shape"
   ],
   "outputs": [
    {
     "output_type": "execute_result",
     "data": {
      "text/plain": [
       "(334164, 47)"
      ]
     },
     "metadata": {},
     "execution_count": 6
    }
   ],
   "metadata": {}
  },
  {
   "cell_type": "markdown",
   "source": [
    "## Check if z ~ N(0,1)"
   ],
   "metadata": {}
  },
  {
   "cell_type": "code",
   "execution_count": 7,
   "source": [
    "_, _, x_out, hidden = model.test_step(torch.from_numpy(bkg.to_numpy(dtype=np.float32)))\n",
    "x_out = x_out.detach().numpy()\n",
    "hidden = hidden.detach().numpy()\n",
    "hidden.shape"
   ],
   "outputs": [
    {
     "output_type": "execute_result",
     "data": {
      "text/plain": [
       "(334164, 28)"
      ]
     },
     "metadata": {},
     "execution_count": 7
    }
   ],
   "metadata": {}
  },
  {
   "cell_type": "code",
   "execution_count": 8,
   "source": [
    "fig = plt.figure(figsize=[20,15])\n",
    "i = 0\n",
    "\n",
    "axes = fig.add_subplot(1,2,i+1)\n",
    "i += 1\n",
    "axes.matshow(pd.DataFrame(hidden).corr().apply(abs))\n",
    "\n",
    "axes = fig.add_subplot(1,2,i+1)\n",
    "i += 1\n",
    "axes.matshow(pd.DataFrame(hidden).corr().apply(abs).apply(np.log))\n",
    "fig.show()"
   ],
   "outputs": [
    {
     "output_type": "stream",
     "name": "stderr",
     "text": [
      "<ipython-input-8-cccee3f30eb4>:11: UserWarning:\n",
      "\n",
      "Matplotlib is currently using module://matplotlib_inline.backend_inline, which is a non-GUI backend, so cannot show the figure.\n",
      "\n"
     ]
    },
    {
     "output_type": "display_data",
     "data": {
      "text/plain": [
       "<Figure size 1440x1080 with 2 Axes>"
      ],
      "image/png": "[encoded data removed]"
     },
     "metadata": {
      "needs_background": "light"
     }
    }
   ],
   "metadata": {}
  },
  {
   "cell_type": "code",
   "execution_count": 9,
   "source": [
    "corr = pd.DataFrame(hidden).corr().apply(abs)\n",
    "corr.replace(1, 0, inplace=True)\n",
    "\n",
    "print(\"Max:\\t\", round(corr.max().max(), 5))\n",
    "print(\"Mean:\\t\", round(corr.mean().mean(), 5))"
   ],
   "outputs": [
    {
     "output_type": "stream",
     "name": "stdout",
     "text": [
      "Max:\t 0.38884\n",
      "Mean:\t 0.01369\n"
     ]
    }
   ],
   "metadata": {}
  },
  {
   "cell_type": "code",
   "execution_count": 10,
   "source": [
    "\n",
    "fig = plt.figure(figsize=[25,70])\n",
    "i = 0\n",
    "\n",
    "total_mean = []\n",
    "total_std = []\n",
    "for x in range(hidden.shape[1]):\n",
    "    axes = fig.add_subplot(20,4,i+1)\n",
    "    i += 1\n",
    "\n",
    "    axes.hist(hidden[:, x], bins='auto')\n",
    "    axes.axis(xmin=-5,xmax=5)\n",
    "    #axes.title(f\"Z{x}\")\n",
    "    total_mean.append(hidden[:, x].mean())\n",
    "    total_std.append(hidden[:, x].std())\n",
    "    print(\"Mean:\", hidden[:, x].mean(), \"\\tStd:\", hidden[:, x].std())\n",
    "\n",
    "print(\"\\n\")\n",
    "print(\"Total average mean\", np.array(total_mean).mean())\n",
    "print(\"Total average std\", np.array(total_std).mean())\n",
    "fig.show()"
   ],
   "outputs": [
    {
     "output_type": "stream",
     "name": "stdout",
     "text": [
      "Mean: 0.0004283684 \tStd: 0.8565895\n",
      "Mean: -0.008461015 \tStd: 0.8361421\n",
      "Mean: 0.0036442874 \tStd: 0.8323015\n",
      "Mean: 0.0038455762 \tStd: 0.8470631\n",
      "Mean: -0.008010339 \tStd: 0.8452305\n",
      "Mean: -0.0054665143 \tStd: 0.8303118\n",
      "Mean: -0.0011704915 \tStd: 0.8516547\n",
      "Mean: 0.02221522 \tStd: 0.83334756\n",
      "Mean: -0.010437714 \tStd: 0.843029\n",
      "Mean: -0.075494014 \tStd: 0.98446524\n",
      "Mean: -0.016854651 \tStd: 0.8443128\n",
      "Mean: 0.0030141505 \tStd: 0.8484496\n",
      "Mean: 0.010797265 \tStd: 0.8177801\n",
      "Mean: 0.22773567 \tStd: 1.2886117\n",
      "Mean: 0.017510017 \tStd: 0.8408564\n",
      "Mean: 0.0073672766 \tStd: 0.8405279\n",
      "Mean: 0.0079051275 \tStd: 0.83585036\n",
      "Mean: -0.05461182 \tStd: 0.9827132\n",
      "Mean: 0.19638266 \tStd: 0.9795877\n",
      "Mean: -0.0157588 \tStd: 0.8261281\n",
      "Mean: 0.22007023 \tStd: 1.3039957\n",
      "Mean: 0.0029785573 \tStd: 0.9776716\n",
      "Mean: -0.47865465 \tStd: 1.5239617\n",
      "Mean: 0.008865551 \tStd: 0.83613485\n",
      "Mean: -0.0069436557 \tStd: 0.8315004\n",
      "Mean: -0.0037853757 \tStd: 0.8218801\n",
      "Mean: -0.24225032 \tStd: 1.4222972\n",
      "Mean: -0.002080638 \tStd: 0.85451543\n"
     ]
    },
    {
     "output_type": "stream",
     "name": "stderr",
     "text": [
      "<ipython-input-10-ac97c69f04a6>:14: UserWarning:\n",
      "\n",
      "Matplotlib is currently using module://matplotlib_inline.backend_inline, which is a non-GUI backend, so cannot show the figure.\n",
      "\n"
     ]
    },
    {
     "output_type": "display_data",
     "data": {
      "text/plain": [
       "<Figure size 1800x5040 with 28 Axes>"
      ],
      "image/png": "[encoded data removed]"
     },
     "metadata": {
      "needs_background": "light"
     }
    }
   ],
   "metadata": {}
  },
  {
   "cell_type": "markdown",
   "source": [
    "## Bkg Data vs Random Sampling Decoding"
   ],
   "metadata": {}
  },
  {
   "cell_type": "code",
   "execution_count": 11,
   "source": [
    "# Random sample from N(0,1)\n",
    "sample = model.decode(torch.rand(bkg.shape[0], study.best_trial.params['hidden_size'])).detach().numpy()\n",
    "\n",
    "# Make it a dataframe\n",
    "sample = pd.DataFrame(sample, columns=bkg.columns)\n",
    "sample.describe()"
   ],
   "outputs": [
    {
     "output_type": "execute_result",
     "data": {
      "text/plain": [
       "       Electron_Multi    FatJet1_Eta   FatJet1_Mass     FatJet1_PT  \\\n",
       "count   334164.000000  334164.000000  334164.000000  334164.000000   \n",
       "mean        -0.428751      -0.945496       0.577425      -0.367440   \n",
       "std          0.568975       1.442619       0.518397       0.364509   \n",
       "min         -0.926306      -3.325452      -1.315059      -1.012292   \n",
       "25%         -0.859586      -2.171585       0.487646      -0.619456   \n",
       "50%         -0.841852      -1.669790       0.660935      -0.475501   \n",
       "75%          0.227355       0.474314       0.860822      -0.227134   \n",
       "max          1.307717       2.830792       2.217389       1.886359   \n",
       "\n",
       "         FatJet1_Phi   FatJet1_Tau1   FatJet1_Tau2   FatJet1_Tau3  \\\n",
       "count  334164.000000  334164.000000  334164.000000  334164.000000   \n",
       "mean       -0.127197       0.672585      -0.176204      -0.225957   \n",
       "std         0.937865       0.547592       0.353079       0.387849   \n",
       "min        -3.448531      -1.146834      -0.917662      -1.052402   \n",
       "25%        -0.860267       0.575242      -0.423777      -0.501080   \n",
       "50%        -0.269996       0.811319      -0.162824      -0.220710   \n",
       "75%         0.825367       1.004389       0.076462       0.046331   \n",
       "max         1.757375       2.062469       2.126231       1.147880   \n",
       "\n",
       "        FatJet1_Tau4   FatJet1_Tau5  ...    Lepton1_Eta     Lepton1_PT  \\\n",
       "count  334164.000000  334164.000000  ...  334164.000000  334164.000000   \n",
       "mean       -0.239970      -0.246704  ...      -1.042919      -0.190407   \n",
       "std         0.397399       0.396183  ...       1.293772       0.368506   \n",
       "min        -1.085098      -1.099444  ...      -3.328957      -1.104723   \n",
       "25%        -0.524770      -0.533815  ...      -2.111183      -0.453533   \n",
       "50%        -0.238585      -0.249959  ...      -1.702228      -0.224184   \n",
       "75%         0.036235       0.027378  ...       0.250644       0.011519   \n",
       "max         1.217093       1.240928  ...       2.008262       2.127891   \n",
       "\n",
       "         Lepton1_Phi    Lepton2_Eta     Lepton2_PT    Lepton2_Phi  \\\n",
       "count  334164.000000  334164.000000  334164.000000  334164.000000   \n",
       "mean       -0.896131      -1.010203       0.153987       0.133967   \n",
       "std         0.328403       1.227265       0.502159       0.805491   \n",
       "min        -2.170426      -3.289584      -1.166007      -2.060022   \n",
       "25%        -1.095223      -2.027982      -0.235338      -0.361328   \n",
       "50%        -0.862150      -1.618559       0.072977       0.092651   \n",
       "75%        -0.703645       0.222999       0.455528       0.788317   \n",
       "max         1.225065       1.923778       2.942154       1.945669   \n",
       "\n",
       "       MissingET_MET  MissingET_Phi     Muon_Multi    ScalarHT_HT  \n",
       "count  334164.000000  334164.000000  334164.000000  334164.000000  \n",
       "mean        0.145533      -0.389600       0.414035      -0.249081  \n",
       "std         0.499812       0.622032       0.567575       0.386247  \n",
       "min        -0.798795      -3.103443      -1.322108      -0.968318  \n",
       "25%        -0.204666      -0.803442      -0.238973      -0.522625  \n",
       "50%         0.033000      -0.397117       0.825198      -0.357846  \n",
       "75%         0.392076       0.020513       0.843790      -0.081296  \n",
       "max         4.498290       2.184452       0.905820       1.731947  \n",
       "\n",
       "[8 rows x 47 columns]"
      ],
      "text/html": [
       "<div>\n",
       "<style scoped>\n",
       "    .dataframe tbody tr th:only-of-type {\n",
       "        vertical-align: middle;\n",
       "    }\n",
       "\n",
       "    .dataframe tbody tr th {\n",
       "        vertical-align: top;\n",
       "    }\n",
       "\n",
       "    .dataframe thead th {\n",
       "        text-align: right;\n",
       "    }\n",
       "</style>\n",
       "<table border=\"1\" class=\"dataframe\">\n",
       "  <thead>\n",
       "    <tr style=\"text-align: right;\">\n",
       "      <th></th>\n",
       "      <th>Electron_Multi</th>\n",
       "      <th>FatJet1_Eta</th>\n",
       "      <th>FatJet1_Mass</th>\n",
       "      <th>FatJet1_PT</th>\n",
       "      <th>FatJet1_Phi</th>\n",
       "      <th>FatJet1_Tau1</th>\n",
       "      <th>FatJet1_Tau2</th>\n",
       "      <th>FatJet1_Tau3</th>\n",
       "      <th>FatJet1_Tau4</th>\n",
       "      <th>FatJet1_Tau5</th>\n",
       "      <th>...</th>\n",
       "      <th>Lepton1_Eta</th>\n",
       "      <th>Lepton1_PT</th>\n",
       "      <th>Lepton1_Phi</th>\n",
       "      <th>Lepton2_Eta</th>\n",
       "      <th>Lepton2_PT</th>\n",
       "      <th>Lepton2_Phi</th>\n",
       "      <th>MissingET_MET</th>\n",
       "      <th>MissingET_Phi</th>\n",
       "      <th>Muon_Multi</th>\n",
       "      <th>ScalarHT_HT</th>\n",
       "    </tr>\n",
       "  </thead>\n",
       "  <tbody>\n",
       "    <tr>\n",
       "      <th>count</th>\n",
       "      <td>334164.000000</td>\n",
       "      <td>334164.000000</td>\n",
       "      <td>334164.000000</td>\n",
       "      <td>334164.000000</td>\n",
       "      <td>334164.000000</td>\n",
       "      <td>334164.000000</td>\n",
       "      <td>334164.000000</td>\n",
       "      <td>334164.000000</td>\n",
       "      <td>334164.000000</td>\n",
       "      <td>334164.000000</td>\n",
       "      <td>...</td>\n",
       "      <td>334164.000000</td>\n",
       "      <td>334164.000000</td>\n",
       "      <td>334164.000000</td>\n",
       "      <td>334164.000000</td>\n",
       "      <td>334164.000000</td>\n",
       "      <td>334164.000000</td>\n",
       "      <td>334164.000000</td>\n",
       "      <td>334164.000000</td>\n",
       "      <td>334164.000000</td>\n",
       "      <td>334164.000000</td>\n",
       "    </tr>\n",
       "    <tr>\n",
       "      <th>mean</th>\n",
       "      <td>-0.428751</td>\n",
       "      <td>-0.945496</td>\n",
       "      <td>0.577425</td>\n",
       "      <td>-0.367440</td>\n",
       "      <td>-0.127197</td>\n",
       "      <td>0.672585</td>\n",
       "      <td>-0.176204</td>\n",
       "      <td>-0.225957</td>\n",
       "      <td>-0.239970</td>\n",
       "      <td>-0.246704</td>\n",
       "      <td>...</td>\n",
       "      <td>-1.042919</td>\n",
       "      <td>-0.190407</td>\n",
       "      <td>-0.896131</td>\n",
       "      <td>-1.010203</td>\n",
       "      <td>0.153987</td>\n",
       "      <td>0.133967</td>\n",
       "      <td>0.145533</td>\n",
       "      <td>-0.389600</td>\n",
       "      <td>0.414035</td>\n",
       "      <td>-0.249081</td>\n",
       "    </tr>\n",
       "    <tr>\n",
       "      <th>std</th>\n",
       "      <td>0.568975</td>\n",
       "      <td>1.442619</td>\n",
       "      <td>0.518397</td>\n",
       "      <td>0.364509</td>\n",
       "      <td>0.937865</td>\n",
       "      <td>0.547592</td>\n",
       "      <td>0.353079</td>\n",
       "      <td>0.387849</td>\n",
       "      <td>0.397399</td>\n",
       "      <td>0.396183</td>\n",
       "      <td>...</td>\n",
       "      <td>1.293772</td>\n",
       "      <td>0.368506</td>\n",
       "      <td>0.328403</td>\n",
       "      <td>1.227265</td>\n",
       "      <td>0.502159</td>\n",
       "      <td>0.805491</td>\n",
       "      <td>0.499812</td>\n",
       "      <td>0.622032</td>\n",
       "      <td>0.567575</td>\n",
       "      <td>0.386247</td>\n",
       "    </tr>\n",
       "    <tr>\n",
       "      <th>min</th>\n",
       "      <td>-0.926306</td>\n",
       "      <td>-3.325452</td>\n",
       "      <td>-1.315059</td>\n",
       "      <td>-1.012292</td>\n",
       "      <td>-3.448531</td>\n",
       "      <td>-1.146834</td>\n",
       "      <td>-0.917662</td>\n",
       "      <td>-1.052402</td>\n",
       "      <td>-1.085098</td>\n",
       "      <td>-1.099444</td>\n",
       "      <td>...</td>\n",
       "      <td>-3.328957</td>\n",
       "      <td>-1.104723</td>\n",
       "      <td>-2.170426</td>\n",
       "      <td>-3.289584</td>\n",
       "      <td>-1.166007</td>\n",
       "      <td>-2.060022</td>\n",
       "      <td>-0.798795</td>\n",
       "      <td>-3.103443</td>\n",
       "      <td>-1.322108</td>\n",
       "      <td>-0.968318</td>\n",
       "    </tr>\n",
       "    <tr>\n",
       "      <th>25%</th>\n",
       "      <td>-0.859586</td>\n",
       "      <td>-2.171585</td>\n",
       "      <td>0.487646</td>\n",
       "      <td>-0.619456</td>\n",
       "      <td>-0.860267</td>\n",
       "      <td>0.575242</td>\n",
       "      <td>-0.423777</td>\n",
       "      <td>-0.501080</td>\n",
       "      <td>-0.524770</td>\n",
       "      <td>-0.533815</td>\n",
       "      <td>...</td>\n",
       "      <td>-2.111183</td>\n",
       "      <td>-0.453533</td>\n",
       "      <td>-1.095223</td>\n",
       "      <td>-2.027982</td>\n",
       "      <td>-0.235338</td>\n",
       "      <td>-0.361328</td>\n",
       "      <td>-0.204666</td>\n",
       "      <td>-0.803442</td>\n",
       "      <td>-0.238973</td>\n",
       "      <td>-0.522625</td>\n",
       "    </tr>\n",
       "    <tr>\n",
       "      <th>50%</th>\n",
       "      <td>-0.841852</td>\n",
       "      <td>-1.669790</td>\n",
       "      <td>0.660935</td>\n",
       "      <td>-0.475501</td>\n",
       "      <td>-0.269996</td>\n",
       "      <td>0.811319</td>\n",
       "      <td>-0.162824</td>\n",
       "      <td>-0.220710</td>\n",
       "      <td>-0.238585</td>\n",
       "      <td>-0.249959</td>\n",
       "      <td>...</td>\n",
       "      <td>-1.702228</td>\n",
       "      <td>-0.224184</td>\n",
       "      <td>-0.862150</td>\n",
       "      <td>-1.618559</td>\n",
       "      <td>0.072977</td>\n",
       "      <td>0.092651</td>\n",
       "      <td>0.033000</td>\n",
       "      <td>-0.397117</td>\n",
       "      <td>0.825198</td>\n",
       "      <td>-0.357846</td>\n",
       "    </tr>\n",
       "    <tr>\n",
       "      <th>75%</th>\n",
       "      <td>0.227355</td>\n",
       "      <td>0.474314</td>\n",
       "      <td>0.860822</td>\n",
       "      <td>-0.227134</td>\n",
       "      <td>0.825367</td>\n",
       "      <td>1.004389</td>\n",
       "      <td>0.076462</td>\n",
       "      <td>0.046331</td>\n",
       "      <td>0.036235</td>\n",
       "      <td>0.027378</td>\n",
       "      <td>...</td>\n",
       "      <td>0.250644</td>\n",
       "      <td>0.011519</td>\n",
       "      <td>-0.703645</td>\n",
       "      <td>0.222999</td>\n",
       "      <td>0.455528</td>\n",
       "      <td>0.788317</td>\n",
       "      <td>0.392076</td>\n",
       "      <td>0.020513</td>\n",
       "      <td>0.843790</td>\n",
       "      <td>-0.081296</td>\n",
       "    </tr>\n",
       "    <tr>\n",
       "      <th>max</th>\n",
       "      <td>1.307717</td>\n",
       "      <td>2.830792</td>\n",
       "      <td>2.217389</td>\n",
       "      <td>1.886359</td>\n",
       "      <td>1.757375</td>\n",
       "      <td>2.062469</td>\n",
       "      <td>2.126231</td>\n",
       "      <td>1.147880</td>\n",
       "      <td>1.217093</td>\n",
       "      <td>1.240928</td>\n",
       "      <td>...</td>\n",
       "      <td>2.008262</td>\n",
       "      <td>2.127891</td>\n",
       "      <td>1.225065</td>\n",
       "      <td>1.923778</td>\n",
       "      <td>2.942154</td>\n",
       "      <td>1.945669</td>\n",
       "      <td>4.498290</td>\n",
       "      <td>2.184452</td>\n",
       "      <td>0.905820</td>\n",
       "      <td>1.731947</td>\n",
       "    </tr>\n",
       "  </tbody>\n",
       "</table>\n",
       "<p>8 rows × 47 columns</p>\n",
       "</div>"
      ]
     },
     "metadata": {},
     "execution_count": 11
    }
   ],
   "metadata": {}
  },
  {
   "cell_type": "code",
   "execution_count": 12,
   "source": [
    "def plot_graphs2(background, signal, bins=50, num_cols=4, first_name=\"Signal\", second_name=\"Sampled\"):\n",
    "    WD_SCORE = 0\n",
    "    R2_SCORE = 0\n",
    "    # Ignoring irrelevant features such as 'name' and 'weights' in\n",
    "    # the plotting of the data\n",
    "    features  = list(background.columns)\n",
    "    for x in ['name', 'weights']: \n",
    "        try:\n",
    "            features.remove(x)\n",
    "        except:\n",
    "            pass\n",
    "\n",
    "    # Plot creation\n",
    "    num_rows = int(np.ceil((len(list(background.columns)) - 1) / num_cols)) +1\n",
    "    fig, ax = plt.subplots(num_rows, num_cols, figsize=(40, 60))\n",
    "    i= 0\n",
    "\n",
    "    for x in tqdm(features, total=len(features), desc=\"Processing...\"):\n",
    "\n",
    "        # Plot  \n",
    "        row, col = int(i/num_cols), i%num_cols\n",
    "        #print(row, col, i)\n",
    "        i += 1\n",
    "\n",
    "\n",
    "        # Define histogram range\n",
    "        hist_min = min(signal[x].min(), background[x].min())\n",
    "        hist_max = max(signal[x].max(), background[x].max())\n",
    "        hist_range = (hist_min, hist_max)\n",
    "\n",
    "\n",
    "        ax[row, col].set_title(x)\n",
    "        ax[row, col].set_yscale('log')\n",
    "        \n",
    "        ax[row, col].hist(background[x], bins=bins, alpha=0.5, label=first_name, range=hist_range)\n",
    "        ax[row, col].hist(signal[x], bins=bins, alpha=0.5, label=second_name,  range=hist_range)\n",
    "        \n",
    "        ax[row, col].autoscale(enable=True) \n",
    "        ax[row, col].legend()\n",
    "\n",
    "        #WD_SCORE += wasserstein_distance(background[x], signal[x])\n",
    "        #R2_SCORE += r2_score(background[x],signal[x])\n",
    "        \n",
    "\n",
    "    fig.tight_layout()\n",
    "    #plt.savefig('1_explore_data.png', bbox_inches='tight', dpi=100)\n",
    "    plt.show()"
   ],
   "outputs": [],
   "metadata": {}
  },
  {
   "cell_type": "code",
   "execution_count": 13,
   "source": [
    "plot_graphs2(bkg, sample)"
   ],
   "outputs": [
    {
     "output_type": "display_data",
     "data": {
      "text/plain": [
       "Processing...:   0%|          | 0/47 [00:00<?, ?it/s]"
      ],
      "application/vnd.jupyter.widget-view+json": {
       "version_major": 2,
       "version_minor": 0,
       "model_id": "714ca6fc885447638973262fef3e302a"
      }
     },
     "metadata": {}
    }
   ],
   "metadata": {}
  },
  {
   "cell_type": "code",
   "execution_count": 1,
   "source": [
    "objective_score = 0\n",
    "for idx in range(bkg.shape[1]):\n",
    "    feature = bkg.columns[idx]\n",
    "    if \"Tag\" in feature or \"Multi\" in feature:\n",
    "        #print(\"Feature\", feature, \"é inteiro\")\n",
    "        objective_score += compare_integer(bkg.to_numpy()[:, idx], bkg_weights.to_numpy(), sample.to_numpy()[:, idx], np.ones(bkg_weights.shape))\n",
    "    else:\n",
    "        #print(\"Feature\", feature, \"é continuo\")\n",
    "        objective_score += compare_continuous(bkg.to_numpy()[:, idx], bkg_weights.to_numpy(), sample.to_numpy()[:, idx], np.ones(bkg_weights.shape))\n",
    "print(\"WD Score:\", objective_score)"
   ],
   "outputs": [
    {
     "output_type": "error",
     "ename": "NameError",
     "evalue": "name 'bkg' is not defined",
     "traceback": [
      "\u001b[0;31m---------------------------------------------------------------------------\u001b[0m",
      "\u001b[0;31mNameError\u001b[0m                                 Traceback (most recent call last)",
      "\u001b[0;32m<ipython-input-1-2043d63ff4a5>\u001b[0m in \u001b[0;36m<module>\u001b[0;34m\u001b[0m\n\u001b[1;32m      1\u001b[0m \u001b[0mobjective_score\u001b[0m \u001b[0;34m=\u001b[0m \u001b[0;36m0\u001b[0m\u001b[0;34m\u001b[0m\u001b[0;34m\u001b[0m\u001b[0m\n\u001b[0;32m----> 2\u001b[0;31m \u001b[0;32mfor\u001b[0m \u001b[0midx\u001b[0m \u001b[0;32min\u001b[0m \u001b[0mrange\u001b[0m\u001b[0;34m(\u001b[0m\u001b[0mbkg\u001b[0m\u001b[0;34m.\u001b[0m\u001b[0mshape\u001b[0m\u001b[0;34m[\u001b[0m\u001b[0;36m1\u001b[0m\u001b[0;34m]\u001b[0m\u001b[0;34m)\u001b[0m\u001b[0;34m:\u001b[0m\u001b[0;34m\u001b[0m\u001b[0;34m\u001b[0m\u001b[0m\n\u001b[0m\u001b[1;32m      3\u001b[0m     \u001b[0mfeature\u001b[0m \u001b[0;34m=\u001b[0m \u001b[0mbkg\u001b[0m\u001b[0;34m.\u001b[0m\u001b[0mcolumns\u001b[0m\u001b[0;34m[\u001b[0m\u001b[0midx\u001b[0m\u001b[0;34m]\u001b[0m\u001b[0;34m\u001b[0m\u001b[0;34m\u001b[0m\u001b[0m\n\u001b[1;32m      4\u001b[0m     \u001b[0;32mif\u001b[0m \u001b[0;34m\"Tag\"\u001b[0m \u001b[0;32min\u001b[0m \u001b[0mfeature\u001b[0m \u001b[0;32mor\u001b[0m \u001b[0;34m\"Multi\"\u001b[0m \u001b[0;32min\u001b[0m \u001b[0mfeature\u001b[0m\u001b[0;34m:\u001b[0m\u001b[0;34m\u001b[0m\u001b[0;34m\u001b[0m\u001b[0m\n\u001b[1;32m      5\u001b[0m         \u001b[0;31m#print(\"Feature\", feature, \"é inteiro\")\u001b[0m\u001b[0;34m\u001b[0m\u001b[0;34m\u001b[0m\u001b[0;34m\u001b[0m\u001b[0m\n",
      "\u001b[0;31mNameError\u001b[0m: name 'bkg' is not defined"
     ]
    }
   ],
   "metadata": {}
  },
  {
   "cell_type": "markdown",
   "source": [
    "## Bkg Data vs Reconstruction"
   ],
   "metadata": {}
  },
  {
   "cell_type": "code",
   "execution_count": null,
   "source": [
    "def plot_graphs3(first, second, first_name=\"Signal\", second_name=\"Sampled\", bins=50, num_cols=4, num_features=69):\n",
    "\n",
    "    R2_SCORE = 0\n",
    "\n",
    "    # Reshape\n",
    "    first = first.reshape(num_features, -1)\n",
    "    second = second.reshape(num_features, -1)\n",
    "\n",
    "    # Plot creation\n",
    "    num_rows = int(np.ceil((num_features - 1) / num_cols)) +1\n",
    "    fig, ax = plt.subplots(num_rows, num_cols, figsize=(40, 60))\n",
    "    i= 0\n",
    "\n",
    "    for x in tqdm(range(num_features), total=num_features, desc=\"Processing...\"):\n",
    "\n",
    "        # Plot  \n",
    "        row, col = int(i/num_cols), i%num_cols\n",
    "        #print(row, col, i)\n",
    "        i += 1\n",
    "\n",
    "\n",
    "        # Define histogram range\n",
    "        hist_min = min(first[x].min(), second[x].min())\n",
    "        hist_max = max(first[x].max(), second[x].max())\n",
    "        hist_range = (hist_min, hist_max)\n",
    "\n",
    "\n",
    "        ax[row, col].set_title(x)\n",
    "        ax[row, col].set_yscale('log')\n",
    "        \n",
    "        ax[row, col].hist(first[x], bins=bins, alpha=0.5, label=first_name, range=hist_range)\n",
    "        ax[row, col].hist(second[x], bins=bins, alpha=0.5, label=second_name,  range=hist_range)\n",
    "\n",
    "        x = x.cpu().numpy()\n",
    "        output = output.cpu().numpy()\n",
    "\n",
    "        #print(\"Input\", np.isnan(x).any())\n",
    "        #print(\"Output\", np.isnan(output).any())\n",
    "\n",
    "\n",
    "        #R2_SCORE += r2_score(first[x],second[x])\n",
    "        \n",
    "\n",
    "    fig.tight_layout()\n",
    "    #plt.savefig('1_explore_data.png', bbox_inches='tight', dpi=100)\n",
    "    plt.show()\n",
    "    #print(\"R2_SCORE:\", R2_SCORE/num_features)"
   ],
   "outputs": [],
   "metadata": {}
  },
  {
   "cell_type": "code",
   "execution_count": null,
   "source": [
    "plot_graphs2(bkg, pd.DataFrame(x_out, columns=bkg.columns), first_name=\"Bkg\", second_name=\"Reconstruction\")"
   ],
   "outputs": [],
   "metadata": {}
  },
  {
   "cell_type": "markdown",
   "source": [],
   "metadata": {}
  },
  {
   "cell_type": "code",
   "execution_count": null,
   "source": [
    "print(\"R2 Score:\", r2_score(bkg.to_numpy(), x_out, sample_weight=bkg_weights.to_numpy()))"
   ],
   "outputs": [],
   "metadata": {}
  },
  {
   "cell_type": "markdown",
   "source": [
    "## Plot error distributions and ROC Scores"
   ],
   "metadata": {}
  },
  {
   "cell_type": "markdown",
   "source": [
    "Load data"
   ],
   "metadata": {}
  },
  {
   "cell_type": "code",
   "execution_count": null,
   "source": [
    "bkg = _dataset(category='test',variant='bkg').all_data()\n",
    "signal = _dataset(category='all',variant='signal').all_data()\n",
    "# signal.drop(columns=['weights'], inplace=True)\n",
    "\n",
    "data = pd.concat([signal, bkg])\n",
    "del signal, bkg"
   ],
   "outputs": [],
   "metadata": {}
  },
  {
   "cell_type": "markdown",
   "source": [
    "Plot"
   ],
   "metadata": {}
  },
  {
   "cell_type": "code",
   "execution_count": null,
   "source": [
    "from sklearn.metrics import roc_auc_score, roc_curve\n",
    "\n",
    "def plot_graphs3(data, bins=50, num_cols=4):\n",
    "    # Plot creation\n",
    "    features = list(data['name'].unique())\n",
    "\n",
    "    distributions = {}\n",
    "\n",
    "    for x in tqdm(features, total=len(features), desc=\"Processing...\"):\n",
    "\n",
    "        ## Get the relevant data\n",
    "        sData = data.loc[data['name'] == x].drop(columns=['name', 'weights'])\n",
    "        sData = torch.from_numpy(\n",
    "            sData.to_numpy(dtype=np.float32)\n",
    "        )\n",
    "\n",
    "        ## Pass input through model to get the output\n",
    "        _, _, output, _ = model.test_step(sData)\n",
    "\n",
    "        ## Calculate the error dist\n",
    "        error_dist = (sData - output)**2\n",
    "        del output, sData\n",
    "        error_dist = error_dist.detach().numpy().sum(axis=1)\n",
    "        error_dist = np.log(error_dist)\n",
    "        # Append to list\n",
    "        distributions[x] = error_dist\n",
    "\n",
    "    # Now we are going to find the maximum of all distributions\n",
    "    max_of_dist = max(map(lambda x: max(x), distributions.values()))\n",
    "\n",
    "    # Normalize the distributions\n",
    "    # This way all values should be between 0 and 1\n",
    "    for x in distributions:\n",
    "        distributions[x] = distributions[x] / max_of_dist\n",
    "    \n",
    "    ## Plot error distributions\n",
    "    fig, ax = plt.subplots( figsize=(10,10))\n",
    "    ax.set_yscale('log')\n",
    "\n",
    "    for x in tqdm(distributions.keys(), desc=\"Processing...\"):\n",
    "\n",
    "        hist_range = (0, 1)        \n",
    "\n",
    "        if x != 'bkg.h5':\n",
    "            ax.hist(distributions[x], bins=bins, alpha=0.9, label=x.replace(\".h5\", \"\"), range=hist_range, histtype=u'step', linewidth=2, density=True)\n",
    "        else:\n",
    "            ax.hist(distributions[x], bins=bins, alpha=0.2, label=x.replace(\".h5\", \"\"), range=hist_range, density=True)\n",
    "\n",
    "    ax.autoscale(enable=True) \n",
    "    ax.set_title(\"Error Dist.\")\n",
    "    ax.legend()\n",
    "\n",
    "\n",
    "    ## Plot ROC Curves\n",
    "    fig_roc, ax_roc = plt.subplots(figsize=(10,10))\n",
    "    for x in tqdm(distributions.keys(), desc=\"Processing...\"):\n",
    "        if x != 'bkg.h5':\n",
    "            # Set labels\n",
    "            bkg_labels = np.zeros(distributions['bkg.h5'].shape[0]).astype(int)\n",
    "            signal_labels = np.ones(distributions[x].shape[0]).astype(int)\n",
    "            labels = np.concatenate([bkg_labels, signal_labels])\n",
    "\n",
    "            # Set Scores\n",
    "            score = np.concatenate([distributions['bkg.h5'], distributions[x]]) \n",
    "\n",
    "            # Set weights\n",
    "            weights = pd.concat([\n",
    "                                data[data['name'] == \"bkg.h5\"]['weights'], \n",
    "                                data[data['name'] == x]['weights']\n",
    "                                ])\n",
    "\n",
    "            # Get Curve\n",
    "            fpr, tpr, thr = roc_curve(\n",
    "                    y_true=labels, \n",
    "                    y_score=score,\n",
    "                    sample_weight=weights\n",
    "                    )\n",
    "            \n",
    "            \n",
    "            ax_roc.plot(fpr, label=x.replace('.h5', ''))\n",
    "            ax_roc.plot([0,1],[0,1], 'k--')\n",
    "   \n",
    "            print(f\"ROC SCORE for {x.replace('.h5', '')}:\", \n",
    "                    roc_auc_score(y_true=labels, \n",
    "                    y_score=score,\n",
    "                    sample_weight=weights))\n",
    "\n",
    "    fig_roc.show()\n",
    "    ax_roc.set_title(f\"BKG vs Signals\")\n",
    "    ax_roc.legend()\n",
    "                \n",
    "\n",
    "    fig.tight_layout()\n",
    "    plt.show()"
   ],
   "outputs": [],
   "metadata": {}
  },
  {
   "cell_type": "code",
   "execution_count": null,
   "source": [
    "plot_graphs3(data)"
   ],
   "outputs": [],
   "metadata": {}
  },
  {
   "cell_type": "code",
   "execution_count": null,
   "source": [],
   "outputs": [],
   "metadata": {}
  }
 ]
}