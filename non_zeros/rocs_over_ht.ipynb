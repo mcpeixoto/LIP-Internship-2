{
 "cells": [
  {
   "cell_type": "code",
   "execution_count": 1,
   "source": [
    "import torch\n",
    "import torch.nn as nn\n",
    "import pytorch_lightning as pl\n",
    "import random\n",
    "from torch.utils.data.dataset import TensorDataset\n",
    "from torch.utils.data import DataLoader, Dataset\n",
    "from torch.optim import Adam\n",
    "from pytorch_lightning import Trainer\n",
    "import os\n",
    "import numpy as np\n",
    "import pandas as pd\n",
    "from os.path import join\n",
    "from typing import Optional\n",
    "from config import processed_data_path\n",
    "from sklearn.utils import shuffle\n",
    "from tqdm.notebook import tqdm\n",
    "from optuna.integration import PyTorchLightningPruningCallback\n",
    "from scipy.stats import wasserstein_distance \n",
    "import joblib\n",
    "import optuna\n",
    "%matplotlib inline\n",
    "from matplotlib import pyplot as plt\n",
    "from pytorch_lightning.callbacks import EarlyStopping, ModelCheckpoint\n",
    "from pytorch_lightning.loggers import TensorBoardLogger\n",
    "from sklearn.metrics import r2_score\n",
    "from scipy.stats import wasserstein_distance\n",
    "import threading\n",
    "import concurrent\n",
    "from sklearn.metrics import r2_score"
   ],
   "outputs": [],
   "metadata": {}
  },
  {
   "cell_type": "code",
   "execution_count": 2,
   "source": [
    "import glob\n",
    "from config import *\n",
    "bkg_files = glob.glob(join(raw_data_path, \"bkg.*\"))\n",
    "signal_files = list(set(glob.glob(join(raw_data_path, \"*.*\"))) - set(bkg_files))\n",
    "all_files = bkg_files + signal_files\n",
    "\n",
    "print(\"Signal files:\", len(signal_files), \"\\nBackground files:\", len(bkg_files), \"\\n> Total:\", len(all_files))"
   ],
   "outputs": [
    {
     "output_type": "stream",
     "name": "stdout",
     "text": [
      "Signal files: 7 \n",
      "Background files: 1 \n",
      "> Total: 8\n"
     ]
    }
   ],
   "metadata": {}
  },
  {
   "cell_type": "code",
   "execution_count": null,
   "source": [
    "from os.path import basename\n",
    "all_data = []\n",
    "\n",
    "for path in all_files:\n",
    "    data = pd.read_hdf(path, index_col=0)\n",
    "\n",
    "    data['name'] = basename(path).replace(\".h5\", \"\")\n",
    "    all_data.append(data)\n",
    "\n",
    "data = pd.concat(all_data)\n",
    "del all_data\n",
    "data = data[['name', 'ScalarHT_HT', 'gen_xsec']]"
   ],
   "outputs": [],
   "metadata": {}
  },
  {
   "cell_type": "code",
   "execution_count": null,
   "source": [
    "# Normalizing the data\n",
    "data['ScalarHT_HT'] = data['ScalarHT_HT'] - min(data['ScalarHT_HT'])\n",
    "max_value = max(data['ScalarHT_HT'])\n",
    "data['ScalarHT_HT'] = data['ScalarHT_HT'] / max_value"
   ],
   "outputs": [],
   "metadata": {}
  },
  {
   "cell_type": "code",
   "execution_count": null,
   "source": [
    "bkg = data[data['name'] == 'bkg']\n",
    "signal = data[data['name'] != 'bkg']"
   ],
   "outputs": [],
   "metadata": {}
  },
  {
   "cell_type": "code",
   "execution_count": null,
   "source": [
    "fig_roc, ax_roc = plt.subplots(figsize=(10,10))\n",
    "from sklearn.metrics import roc_auc_score, roc_curve\n",
    "for x in signal['name'].unique():\n",
    "\n",
    "    current_signal = signal[signal['name'] == x]['ScalarHT_HT']\n",
    "    current_bkg = bkg['ScalarHT_HT']\n",
    "\n",
    "\n",
    "    # Labels\n",
    "    bkg_labels = np.zeros(current_bkg.shape[0]).astype(int)\n",
    "    signal_labels = np.ones(current_signal.shape[0]).astype(int)\n",
    "    labels = np.concatenate([bkg_labels, signal_labels])\n",
    "\n",
    "    # Score\n",
    "    score = pd.concat([bkg['ScalarHT_HT'], signal[signal['name'] == x]['ScalarHT_HT']])\n",
    "\n",
    "    # Weights\n",
    "    weights = pd.concat([\n",
    "                        bkg['gen_xsec'], \n",
    "                        signal[signal['name'] == x]['gen_xsec']\n",
    "                        ])\n",
    "\n",
    "\n",
    "    fpr, tpr, thr = roc_curve(\n",
    "                    y_true=labels, \n",
    "                    y_score=score,\n",
    "                    sample_weight=weights,\n",
    "                    )\n",
    "            \n",
    "            \n",
    "    ax_roc.plot(fpr, tpr, label=x.replace('.h5', ''))\n",
    "    ax_roc.plot([0,1],[0,1], 'k--')\n",
    "\n",
    "    print(f\"ROC SCORE for {x.replace('.h5', '')}:\", \n",
    "            roc_auc_score(y_true=labels, \n",
    "            y_score=score,\n",
    "            sample_weight=weights))\n",
    "\n",
    "fig_roc.show()\n",
    "ax_roc.set_title(f\"BKG vs Signals (HT)\")\n",
    "ax_roc.legend()"
   ],
   "outputs": [],
   "metadata": {}
  },
  {
   "cell_type": "markdown",
   "source": [
    "# OLD CODE"
   ],
   "metadata": {}
  },
  {
   "cell_type": "code",
   "execution_count": null,
   "source": [
    "bkg = _dataset(category='test',variant='bkg').all_data()\n",
    "signal = _dataset(category='all',variant='signal').all_data()"
   ],
   "outputs": [],
   "metadata": {}
  },
  {
   "cell_type": "code",
   "execution_count": null,
   "source": [
    "# Normalizing the data\n",
    "signal['ScalarHT_HT'] = signal['ScalarHT_HT'] - min(signal['ScalarHT_HT'])\n",
    "bkg['ScalarHT_HT'] = bkg['ScalarHT_HT'] - min(bkg['ScalarHT_HT'])\n",
    "max_value = max(max(signal['ScalarHT_HT']), max(bkg['ScalarHT_HT']))\n",
    "bkg['ScalarHT_HT'] = bkg['ScalarHT_HT'] / max_value\n",
    "signal['ScalarHT_HT'] = signal['ScalarHT_HT'] / max_value"
   ],
   "outputs": [],
   "metadata": {}
  },
  {
   "cell_type": "code",
   "execution_count": null,
   "source": [
    "fig_roc, ax_roc = plt.subplots(figsize=(10,10))\n",
    "from sklearn.metrics import roc_auc_score, roc_curve\n",
    "for x in signal['name'].unique():\n",
    "\n",
    "    current_signal = signal[signal['name'] == x]['ScalarHT_HT']\n",
    "    current_bkg = bkg['ScalarHT_HT']\n",
    "\n",
    "\n",
    "    # Labels\n",
    "    bkg_labels = np.zeros(current_bkg.shape[0]).astype(int)\n",
    "    signal_labels = np.ones(current_signal.shape[0]).astype(int)\n",
    "    labels = np.concatenate([bkg_labels, signal_labels])\n",
    "\n",
    "    # Score\n",
    "    score = pd.concat([bkg['ScalarHT_HT'], signal[signal['name'] == x]['ScalarHT_HT']])\n",
    "\n",
    "    # Weights\n",
    "    weights = pd.concat([\n",
    "                        bkg['weights'], \n",
    "                        signal[signal['name'] == x]['weights']\n",
    "                        ])\n",
    "\n",
    "\n",
    "    fpr, tpr, thr = roc_curve(\n",
    "                    y_true=labels, \n",
    "                    y_score=score,\n",
    "                    sample_weight=weights,\n",
    "                    )\n",
    "            \n",
    "            \n",
    "    ax_roc.plot(fpr, tpr, label=x.replace('.h5', ''))\n",
    "    ax_roc.plot([0,1],[0,1], 'k--')\n",
    "\n",
    "    print(f\"ROC SCORE for {x.replace('.h5', '')}:\", \n",
    "            roc_auc_score(y_true=labels, \n",
    "            y_score=score,\n",
    "            sample_weight=weights))\n",
    "\n",
    "fig_roc.show()\n",
    "ax_roc.set_title(f\"BKG vs Signals (HT)\")\n",
    "ax_roc.legend()"
   ],
   "outputs": [],
   "metadata": {}
  }
 ],
 "metadata": {
  "orig_nbformat": 4,
  "language_info": {
   "name": "python",
   "version": "3.8.10",
   "mimetype": "text/x-python",
   "codemirror_mode": {
    "name": "ipython",
    "version": 3
   },
   "pygments_lexer": "ipython3",
   "nbconvert_exporter": "python",
   "file_extension": ".py"
  },
  "kernelspec": {
   "name": "python3",
   "display_name": "Python 3.8.10 64-bit"
  },
  "interpreter": {
   "hash": "e7370f93d1d0cde622a1f8e1c04877d8463912d04d973331ad4851f04de6915a"
  }
 },
 "nbformat": 4,
 "nbformat_minor": 2
}