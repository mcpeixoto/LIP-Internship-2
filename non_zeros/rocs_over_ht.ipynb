{
 "cells": [
  {
   "cell_type": "code",
   "execution_count": 1,
   "source": [
    "import torch\n",
    "import torch.nn as nn\n",
    "import pytorch_lightning as pl\n",
    "import random\n",
    "from torch.utils.data.dataset import TensorDataset\n",
    "from torch.utils.data import DataLoader, Dataset\n",
    "from torch.optim import Adam\n",
    "from pytorch_lightning import Trainer\n",
    "import os\n",
    "import numpy as np\n",
    "import pandas as pd\n",
    "from os.path import join\n",
    "from typing import Optional\n",
    "from config import processed_data_path\n",
    "from sklearn.utils import shuffle\n",
    "from tqdm.notebook import tqdm\n",
    "from optuna.integration import PyTorchLightningPruningCallback\n",
    "from scipy.stats import wasserstein_distance \n",
    "import joblib\n",
    "import optuna\n",
    "%matplotlib inline\n",
    "from matplotlib import pyplot as plt\n",
    "from pytorch_lightning.callbacks import EarlyStopping, ModelCheckpoint\n",
    "from pytorch_lightning.loggers import TensorBoardLogger\n",
    "from sklearn.metrics import r2_score\n",
    "from scipy.stats import wasserstein_distance\n",
    "import threading\n",
    "import concurrent\n",
    "from sklearn.metrics import r2_score"
   ],
   "outputs": [],
   "metadata": {}
  },
  {
   "cell_type": "code",
   "execution_count": 2,
   "source": [
    "import glob\n",
    "from config import *\n",
    "bkg_files = glob.glob(join(raw_data_path, \"bkg.*\"))\n",
    "signal_files = list(set(glob.glob(join(raw_data_path, \"*.*\"))) - set(bkg_files))\n",
    "all_files = bkg_files + signal_files\n",
    "\n",
    "print(\"Signal files:\", len(signal_files), \"\\nBackground files:\", len(bkg_files), \"\\n> Total:\", len(all_files))"
   ],
   "outputs": [
    {
     "output_type": "stream",
     "name": "stdout",
     "text": [
      "Signal files: 7 \n",
      "Background files: 1 \n",
      "> Total: 8\n"
     ]
    }
   ],
   "metadata": {}
  },
  {
   "cell_type": "code",
   "execution_count": 3,
   "source": [
    "from os.path import basename\n",
    "all_data = []\n",
    "\n",
    "for path in all_files:\n",
    "    data = pd.read_hdf(path, index_col=0)\n",
    "\n",
    "    data['name'] = basename(path).replace(\".h5\", \"\")\n",
    "    all_data.append(data)\n",
    "\n",
    "data = pd.concat(all_data)\n",
    "del all_data\n",
    "data = data[['name', 'ScalarHT_HT', 'gen_xsec']]"
   ],
   "outputs": [],
   "metadata": {}
  },
  {
   "cell_type": "code",
   "execution_count": null,
   "source": [
    "plt.hist(data['ScalarHT_HT'], bins=50)\n",
    "plt.show()"
   ],
   "outputs": [
    {
     "output_type": "display_data",
     "data": {
      "text/plain": [
       "<Figure size 432x288 with 1 Axes>"
      ],
      "image/png": "[encoded data removed]"
     },
     "metadata": {
      "needs_background": "light"
     }
    }
   ],
   "metadata": {}
  },
  {
   "cell_type": "code",
   "execution_count": null,
   "source": [
    "to_plot = np.log(data[data['name'] == 'bkg']['ScalarHT_HT'] + np.finfo(float).eps)\n",
    "to_plot = to_plot - to_plot.min()\n",
    "to_plot = to_plot / to_plot.max()\n",
    "plt.hist(to_plot, bins=50)\n",
    "plt.show()"
   ],
   "outputs": [
    {
     "output_type": "display_data",
     "data": {
      "text/plain": [
       "<Figure size 432x288 with 1 Axes>"
      ],
      "image/png": "[encoded data removed]"
     },
     "metadata": {
      "needs_background": "light"
     }
    }
   ],
   "metadata": {}
  },
  {
   "cell_type": "code",
   "execution_count": null,
   "source": [
    "to_plot = np.log(data[data['name'] != 'bkg']['ScalarHT_HT'] + np.finfo(float).eps)\n",
    "to_plot = to_plot - to_plot.min()\n",
    "to_plot = to_plot / to_plot.max()\n",
    "plt.hist(to_plot, bins=50)\n",
    "plt.show()"
   ],
   "outputs": [
    {
     "output_type": "display_data",
     "data": {
      "text/plain": [
       "<Figure size 432x288 with 1 Axes>"
      ],
      "image/png": "[encoded data removed]"
     },
     "metadata": {
      "needs_background": "light"
     }
    }
   ],
   "metadata": {}
  },
  {
   "cell_type": "code",
   "execution_count": null,
   "source": [
    "from sklearn.metrics import roc_auc_score, roc_curve\n",
    "from sklearn.metrics import confusion_matrix,precision_score\n",
    "\n",
    "bins = 50\n",
    "\n",
    "# Plot creation\n",
    "features = list(data['name'].unique())\n",
    "\n",
    "distributions = {}\n",
    "\n",
    "for x in tqdm(features, total=len(features), desc=\"Processing...\"):\n",
    "\n",
    "    ## Get the relevant data\n",
    "    sData = data.loc[data['name'] == x].drop(columns=['name'])\n",
    "    sData = sData['ScalarHT_HT']\n",
    "    sData = sData.to_numpy(dtype=np.float32)\n",
    "\n",
    "    sData = np.log(sData + np.finfo(float).eps)\n",
    "    # Append to list\n",
    "    distributions[x] = sData"
   ],
   "outputs": [
    {
     "output_type": "display_data",
     "data": {
      "text/plain": [
       "Processing...:   0%|          | 0/8 [00:00<?, ?it/s]"
      ],
      "application/vnd.jupyter.widget-view+json": {
       "version_major": 2,
       "version_minor": 0,
       "model_id": "59cfaf0e045440a4a2c6d08bfaae9924"
      }
     },
     "metadata": {}
    }
   ],
   "metadata": {}
  },
  {
   "cell_type": "code",
   "execution_count": null,
   "source": [
    "## Normalize the distributions\n",
    "# This way all values should be between 0 and 1\n",
    "\n",
    "# x transform\n",
    "min_of_dist = min(map(lambda x: min(x), distributions.values()))\n",
    "for x in distributions:\n",
    "    distributions[x] = distributions[x] - min_of_dist\n",
    "# scale\n",
    "max_of_dist = max(map(lambda x: max(x), distributions.values()))\n",
    "for x in distributions:\n",
    "    distributions[x] = distributions[x] / max_of_dist"
   ],
   "outputs": [],
   "metadata": {}
  },
  {
   "cell_type": "code",
   "execution_count": null,
   "source": [
    "## Plot error distributions\n",
    "fig, ax = plt.subplots( figsize=(10,10))\n",
    "ax.set_yscale('log')\n",
    "\n",
    "for x in tqdm(distributions.keys(), desc=\"Processing...\"):\n",
    "\n",
    "    hist_range = (0, 1)        \n",
    "\n",
    "    if x != 'bkg':\n",
    "        ax.hist(distributions[x], bins=bins, alpha=0.9, label=x.replace(\".h5\", \"\"), range=hist_range, histtype=u'step', linewidth=2, density=True)\n",
    "    else:\n",
    "        ax.hist(distributions[x], bins=bins, alpha=0.2, label=x.replace(\".h5\", \"\"), range=hist_range, density=True)\n",
    "\n",
    "ax.autoscale(enable=True) \n",
    "ax.set_title(\"Error Dist.\")\n",
    "ax.legend()"
   ],
   "outputs": [
    {
     "output_type": "display_data",
     "data": {
      "text/plain": [
       "Processing...:   0%|          | 0/8 [00:00<?, ?it/s]"
      ],
      "application/vnd.jupyter.widget-view+json": {
       "version_major": 2,
       "version_minor": 0,
       "model_id": "6319377bbf694b7b85a48426acf948fb"
      }
     },
     "metadata": {}
    },
    {
     "output_type": "execute_result",
     "data": {
      "text/plain": [
       "<matplotlib.legend.Legend at 0x7f4aab2b4a30>"
      ]
     },
     "metadata": {},
     "execution_count": 24
    },
    {
     "output_type": "display_data",
     "data": {
      "text/plain": [
       "<Figure size 720x720 with 1 Axes>"
      ],
      "image/png": "[encoded data removed]"
     },
     "metadata": {
      "needs_background": "light"
     }
    }
   ],
   "metadata": {}
  },
  {
   "cell_type": "code",
   "execution_count": null,
   "source": [
    "\n",
    "## Plot ROC Curves\n",
    "fig_roc, ax_roc = plt.subplots(figsize=(10,10))\n",
    "for x in tqdm(distributions.keys(), desc=\"Processing...\"):\n",
    "    if x != 'bkg':\n",
    "        # Set labels\n",
    "        bkg_labels = np.zeros(distributions['bkg'].shape[0]).astype(int)\n",
    "        signal_labels = np.ones(distributions[x].shape[0]).astype(int)\n",
    "        labels = np.concatenate([bkg_labels, signal_labels])\n",
    "\n",
    "        # Set Scores\n",
    "        score = np.concatenate([distributions['bkg'], distributions[x]]) \n",
    "\n",
    "        # Set weights\n",
    "        weights = pd.concat([\n",
    "                            data[data['name'] == \"bkg\"]['gen_xsec'], \n",
    "                            data[data['name'] == x]['gen_xsec']\n",
    "                            ])\n",
    "\n",
    "        # Get Curve\n",
    "        fpr, tpr, thr = roc_curve(\n",
    "                y_true=labels, \n",
    "                y_score=score,\n",
    "                sample_weight=weights\n",
    "                )\n",
    "        \n",
    "        \n",
    "        ax_roc.plot(fpr, tpr, label=x)\n",
    "        ax_roc.plot([0,1],[0,1], 'k--')\n",
    "\n",
    "        print(f\"ROC SCORE for {x}:\", \n",
    "                roc_auc_score(y_true=labels, \n",
    "                y_score=score,\n",
    "                sample_weight=weights))\n",
    "        #print(score.min(), score.max())\n",
    "        #print(np.unique(np.rint(score)))\n",
    "        print(\"Confusion matrix:\")\n",
    "        print(confusion_matrix(labels, np.rint(score)))\n",
    "        print(\"\\n\")\n",
    "fig_roc.show()\n",
    "ax_roc.set_title(f\"BKG vs Signals\")\n",
    "ax_roc.legend()\n",
    "            \n",
    "\n",
    "fig.tight_layout()\n",
    "plt.show()"
   ],
   "outputs": [
    {
     "output_type": "error",
     "ename": "NameError",
     "evalue": "name 'plt' is not defined",
     "traceback": [
      "\u001b[0;31m---------------------------------------------------------------------------\u001b[0m",
      "\u001b[0;31mNameError\u001b[0m                                 Traceback (most recent call last)",
      "\u001b[0;32m<ipython-input-1-b348e1afb5e0>\u001b[0m in \u001b[0;36m<module>\u001b[0;34m\u001b[0m\n\u001b[1;32m      1\u001b[0m \u001b[0;31m## Plot ROC Curves\u001b[0m\u001b[0;34m\u001b[0m\u001b[0;34m\u001b[0m\u001b[0;34m\u001b[0m\u001b[0m\n\u001b[0;32m----> 2\u001b[0;31m \u001b[0mfig_roc\u001b[0m\u001b[0;34m,\u001b[0m \u001b[0max_roc\u001b[0m \u001b[0;34m=\u001b[0m \u001b[0mplt\u001b[0m\u001b[0;34m.\u001b[0m\u001b[0msubplots\u001b[0m\u001b[0;34m(\u001b[0m\u001b[0mfigsize\u001b[0m\u001b[0;34m=\u001b[0m\u001b[0;34m(\u001b[0m\u001b[0;36m10\u001b[0m\u001b[0;34m,\u001b[0m\u001b[0;36m10\u001b[0m\u001b[0;34m)\u001b[0m\u001b[0;34m)\u001b[0m\u001b[0;34m\u001b[0m\u001b[0;34m\u001b[0m\u001b[0m\n\u001b[0m\u001b[1;32m      3\u001b[0m \u001b[0;32mfor\u001b[0m \u001b[0mx\u001b[0m \u001b[0;32min\u001b[0m \u001b[0mtqdm\u001b[0m\u001b[0;34m(\u001b[0m\u001b[0mdistributions\u001b[0m\u001b[0;34m.\u001b[0m\u001b[0mkeys\u001b[0m\u001b[0;34m(\u001b[0m\u001b[0;34m)\u001b[0m\u001b[0;34m,\u001b[0m \u001b[0mdesc\u001b[0m\u001b[0;34m=\u001b[0m\u001b[0;34m\"Processing...\"\u001b[0m\u001b[0;34m)\u001b[0m\u001b[0;34m:\u001b[0m\u001b[0;34m\u001b[0m\u001b[0;34m\u001b[0m\u001b[0m\n\u001b[1;32m      4\u001b[0m     \u001b[0;32mif\u001b[0m \u001b[0mx\u001b[0m \u001b[0;34m!=\u001b[0m \u001b[0;34m'bkg'\u001b[0m\u001b[0;34m:\u001b[0m\u001b[0;34m\u001b[0m\u001b[0;34m\u001b[0m\u001b[0m\n\u001b[1;32m      5\u001b[0m         \u001b[0;31m# Set labels\u001b[0m\u001b[0;34m\u001b[0m\u001b[0;34m\u001b[0m\u001b[0;34m\u001b[0m\u001b[0m\n",
      "\u001b[0;31mNameError\u001b[0m: name 'plt' is not defined"
     ]
    }
   ],
   "metadata": {}
  },
  {
   "cell_type": "code",
   "execution_count": null,
   "source": [],
   "outputs": [],
   "metadata": {}
  }
 ],
 "metadata": {
  "orig_nbformat": 4,
  "language_info": {
   "name": "python",
   "version": "3.8.10",
   "mimetype": "text/x-python",
   "codemirror_mode": {
    "name": "ipython",
    "version": 3
   },
   "pygments_lexer": "ipython3",
   "nbconvert_exporter": "python",
   "file_extension": ".py"
  },
  "kernelspec": {
   "name": "python3",
   "display_name": "Python 3.8.10 64-bit"
  },
  "interpreter": {
   "hash": "e7370f93d1d0cde622a1f8e1c04877d8463912d04d973331ad4851f04de6915a"
  }
 },
 "nbformat": 4,
 "nbformat_minor": 2
}